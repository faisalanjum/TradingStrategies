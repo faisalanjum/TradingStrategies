{
 "cells": [
  {
   "cell_type": "markdown",
   "metadata": {},
   "source": [
    "https://www.quantconnect.com/terminal/processCache/?request=embedded_backtest_98cf554d6f396c80acc737ddc2e363a5.html is an example that implements all of the QuantConnect API in vanilla Python to demonstrate the JSON calls and responses."
   ]
  },
  {
   "cell_type": "code",
   "execution_count": 1,
   "metadata": {},
   "outputs": [],
   "source": [
    "url_readBacktest        = f\"https://www.quantconnect.com/api/v2/backtests/read\"\n",
    "url_readProject         = f\"https://www.quantconnect.com/api/v2/projects/read\"\n",
    "url_listProjectBacktest = f\"https://www.quantconnect.com/api/v2/backtests/list\""
   ]
  },
  {
   "cell_type": "code",
   "execution_count": null,
   "metadata": {},
   "outputs": [],
   "source": [
    "project_IDs = [19016182, 19014068, 19015686, 19015442]"
   ]
  },
  {
   "cell_type": "code",
   "execution_count": null,
   "metadata": {},
   "outputs": [],
   "source": [
    "# 19015686: {'YTD': '', '2023': '', '5YR': ''},\n",
    "\n",
    "projects = {\n",
    "    19016182: {'YTD': '470023a5c1f9a22a0f4829c35679f41d', '2023': '082e71846f6294125674d0fba01cb279', '5YR': 'fe286f90bb0da4738404135abd17136d'},\n",
    "\n",
    "    19014068: {'YTD': '30f0c685c6b86c3a87e41ba814ac2d20', '2023': 'e2c3863dd8775420a9b56d0146900536', '5YR': 'ec972b6296554776191667a53ecdf904'},\n",
    "\n",
    "    19015686: {'YTD': '517b08db7d506001db5992acbf211144', '2023': '1c1f0c9bbdf39a5498b7479e2849d8da', '5YR': '9fefc93b33716b3c3c225bab8700c479'},\n",
    "\n",
    "    19015442: {'YTD': '6fc203bdcc79b85620ab20c5fb8a6f44', '2023': '4f7ad23a630e2aeecf363742972bfeff', '5YR': '216a792374258375a8ec0ea180dae529'},   \n",
    "}\n"
   ]
  },
  {
   "cell_type": "code",
   "execution_count": 2,
   "metadata": {},
   "outputs": [],
   "source": [
    "# Your QuantConnect API credentials\n",
    "USER_ID = '92090'\n",
    "API_TOKEN = '7df20f89e389d894c09528956e8bbd1c8a76946c12d56dd8624a6705825243ef'\n",
    "\n",
    "import requests\n",
    "import hashlib\n",
    "import time\n",
    "import base64\n",
    "import pandas as pd\n",
    "pd.set_option('display.max_columns', None)\n",
    "\n",
    "# Function to create headers with appropriate authentication\n",
    "def get_authenticated_headers():\n",
    "    timestamp = str(int(time.time()))\n",
    "    data_string = f\"{API_TOKEN}:{timestamp}\"\n",
    "    hashed_token = hashlib.sha256(data_string.encode('utf-8')).hexdigest()\n",
    "    auth_string = f\"{USER_ID}:{hashed_token}\"\n",
    "    api_token = base64.b64encode(auth_string.encode('utf-8')).decode('ascii')\n",
    "    return {\n",
    "        'Authorization': f'Basic {api_token}',\n",
    "        'Timestamp': timestamp\n",
    "    }"
   ]
  },
  {
   "cell_type": "markdown",
   "metadata": {},
   "source": [
    "### List Backtests by providing ProjectID\n",
    "\n",
    "['backtestId', 'status', 'name', 'note', 'created', 'completed', 'progress', 'result', 'error', 'stacktrace', 'projectId', 'optimizationId', 'sparkline', 'sharpeRatio', 'alpha', 'beta', 'compoundingAnnualReturn', 'drawdown', 'lossRate', 'netProfit', 'parameters', 'psr', 'securityTypes', 'sortinoRatio', 'tradeableDates', 'trades', 'treynorRatio', 'winRate', 'outOfSampleMaxEndDate', 'outOfSampleDays', 'parameterSet', 'snapshotId', 'nodeName', 'tags'])"
   ]
  },
  {
   "cell_type": "code",
   "execution_count": 8,
   "metadata": {},
   "outputs": [
    {
     "data": {
      "text/html": [
       "<div>\n",
       "<style scoped>\n",
       "    .dataframe tbody tr th:only-of-type {\n",
       "        vertical-align: middle;\n",
       "    }\n",
       "\n",
       "    .dataframe tbody tr th {\n",
       "        vertical-align: top;\n",
       "    }\n",
       "\n",
       "    .dataframe thead th {\n",
       "        text-align: right;\n",
       "    }\n",
       "</style>\n",
       "<table border=\"1\" class=\"dataframe\">\n",
       "  <thead>\n",
       "    <tr style=\"text-align: right;\">\n",
       "      <th></th>\n",
       "      <th>backtestId</th>\n",
       "      <th>alpha</th>\n",
       "      <th>beta</th>\n",
       "      <th>compoundingAnnualReturn</th>\n",
       "      <th>drawdown</th>\n",
       "      <th>lossRate</th>\n",
       "      <th>netProfit</th>\n",
       "      <th>parameters</th>\n",
       "      <th>psr</th>\n",
       "      <th>sortinoRatio</th>\n",
       "      <th>trades</th>\n",
       "      <th>treynorRatio</th>\n",
       "      <th>winRate</th>\n",
       "    </tr>\n",
       "  </thead>\n",
       "  <tbody>\n",
       "    <tr>\n",
       "      <th>5YR</th>\n",
       "      <td>ec972b6296554776191667a53ecdf904</td>\n",
       "      <td>-0.078</td>\n",
       "      <td>-0.012</td>\n",
       "      <td>-7.819</td>\n",
       "      <td>37.8</td>\n",
       "      <td>53.00</td>\n",
       "      <td>-36.614</td>\n",
       "      <td>0</td>\n",
       "      <td>0.000</td>\n",
       "      <td>-2.081</td>\n",
       "      <td>49252</td>\n",
       "      <td>6.387</td>\n",
       "      <td>47.00</td>\n",
       "    </tr>\n",
       "    <tr>\n",
       "      <th>2023</th>\n",
       "      <td>e2c3863dd8775420a9b56d0146900536</td>\n",
       "      <td>-0.046</td>\n",
       "      <td>-0.015</td>\n",
       "      <td>0.535</td>\n",
       "      <td>5.0</td>\n",
       "      <td>-0.03</td>\n",
       "      <td>0.532</td>\n",
       "      <td>0</td>\n",
       "      <td>14.856</td>\n",
       "      <td>NaN</td>\n",
       "      <td>8996</td>\n",
       "      <td>3.270</td>\n",
       "      <td>0.03</td>\n",
       "    </tr>\n",
       "    <tr>\n",
       "      <th>YTD</th>\n",
       "      <td>30f0c685c6b86c3a87e41ba814ac2d20</td>\n",
       "      <td>-0.154</td>\n",
       "      <td>-0.012</td>\n",
       "      <td>-14.237</td>\n",
       "      <td>9.5</td>\n",
       "      <td>55.00</td>\n",
       "      <td>-8.763</td>\n",
       "      <td>0</td>\n",
       "      <td>0.077</td>\n",
       "      <td>-3.220</td>\n",
       "      <td>5252</td>\n",
       "      <td>13.391</td>\n",
       "      <td>45.00</td>\n",
       "    </tr>\n",
       "  </tbody>\n",
       "</table>\n",
       "</div>"
      ],
      "text/plain": [
       "                            backtestId  alpha   beta  compoundingAnnualReturn  \\\n",
       "5YR   ec972b6296554776191667a53ecdf904 -0.078 -0.012                   -7.819   \n",
       "2023  e2c3863dd8775420a9b56d0146900536 -0.046 -0.015                    0.535   \n",
       "YTD   30f0c685c6b86c3a87e41ba814ac2d20 -0.154 -0.012                  -14.237   \n",
       "\n",
       "      drawdown  lossRate  netProfit  parameters     psr  sortinoRatio  trades  \\\n",
       "5YR       37.8     53.00    -36.614           0   0.000        -2.081   49252   \n",
       "2023       5.0     -0.03      0.532           0  14.856           NaN    8996   \n",
       "YTD        9.5     55.00     -8.763           0   0.077        -3.220    5252   \n",
       "\n",
       "      treynorRatio  winRate  \n",
       "5YR          6.387    47.00  \n",
       "2023         3.270     0.03  \n",
       "YTD         13.391    45.00  "
      ]
     },
     "execution_count": 8,
     "metadata": {},
     "output_type": "execute_result"
    }
   ],
   "source": [
    "# https://www.quantconnect.com/docs/v2/cloud-platform/api-reference/backtest-management/list-backtests\n",
    "\n",
    "def list_backtests(project_id):\n",
    "    response = requests.post(url_listProjectBacktest, headers=get_authenticated_headers(), data={'projectId': project_id, 'includeStatistics': True})\n",
    "    if response.status_code == 200:\n",
    "        return response.json().get('backtests', [])\n",
    "    else:\n",
    "        print(\"Failed to list backtests:\", response.status_code, response.text)\n",
    "        return []\n",
    "    \n",
    "backtests = list_backtests(19014068)\n",
    "backtest_metrics = ['backtestId', 'alpha',  'beta', 'compoundingAnnualReturn', 'drawdown', 'lossRate', 'netProfit', 'parameters', 'psr', 'sortinoRatio', 'trades' ,'treynorRatio', 'winRate'] \n",
    "\n",
    "df = pd.DataFrame([[bkt.get(metric, None) for metric in backtest_metrics] for bkt in backtests], columns=backtest_metrics)\n",
    "df.index = [bkt['name'] for bkt in backtests]\n",
    "df\n"
   ]
  },
  {
   "cell_type": "markdown",
   "metadata": {},
   "source": [
    "### Read Backtests\n",
    "https://www.quantconnect.com/docs/v2/cloud-platform/api-reference/backtest-management/read-backtest/backtest-statistics\n",
    "\n",
    "['note', 'name', 'organizationId', 'projectId', 'completed', 'optimizationId', 'backtestId', 'tradeableDates', 'researchGuide', 'backtestStart', 'backtestEnd', 'created', 'snapshotId', 'status', 'error', 'stacktrace', 'progress', 'hasInitializeError', 'charts', 'parameterSet', 'rollingWindow', 'runtimeStatistics', 'statistics', 'totalPerformance', 'nodeName', 'outOfSampleMaxEndDate', 'outOfSampleDays'])"
   ]
  },
  {
   "cell_type": "code",
   "execution_count": 104,
   "metadata": {},
   "outputs": [],
   "source": [
    "def fetch_backtest_result(project_id, backtest_id, key = None):\n",
    "    response = requests.post(url_readBacktest, headers=get_authenticated_headers(), data={'projectId': project_id, 'backtestId': backtest_id})\n",
    "    if response.status_code == 200:\n",
    "        \n",
    "        if key is not None:\n",
    "            return response.json()['backtest'][key]\n",
    "        else:\n",
    "            return response.json()['backtest']\n",
    "    else:\n",
    "        print(\"Failed to retrieve backtest results:\", response.status_code, response.text)\n",
    "        return {}\n",
    "    \n",
    "backtest_result = fetch_backtest_result(project_id=19016182, backtest_id='fe286f90bb0da4738404135abd17136d')"
   ]
  },
  {
   "cell_type": "code",
   "execution_count": 105,
   "metadata": {},
   "outputs": [
    {
     "data": {
      "text/plain": [
       "dict_keys(['note', 'name', 'organizationId', 'projectId', 'completed', 'optimizationId', 'backtestId', 'tradeableDates', 'researchGuide', 'backtestStart', 'backtestEnd', 'created', 'snapshotId', 'status', 'error', 'stacktrace', 'progress', 'hasInitializeError', 'charts', 'parameterSet', 'rollingWindow', 'runtimeStatistics', 'statistics', 'totalPerformance', 'nodeName', 'outOfSampleMaxEndDate', 'outOfSampleDays'])"
      ]
     },
     "execution_count": 105,
     "metadata": {},
     "output_type": "execute_result"
    }
   ],
   "source": [
    "backtest_result.keys()"
   ]
  },
  {
   "cell_type": "code",
   "execution_count": 231,
   "metadata": {},
   "outputs": [
    {
     "data": {
      "text/plain": [
       "'QP_97HalfDayReversal'"
      ]
     },
     "execution_count": 231,
     "metadata": {},
     "output_type": "execute_result"
    }
   ],
   "source": [
    "fetch_project_details(backtest_result['projectId'])['name']"
   ]
  },
  {
   "cell_type": "code",
   "execution_count": 184,
   "metadata": {},
   "outputs": [
    {
     "data": {
      "text/plain": [
       "dict_keys(['Strategy Equity', 'Benchmark', 'Portfolio Margin', 'Assets Sales Volume', 'Portfolio Turnover', 'Capacity', 'Exposure', 'Drawdown'])"
      ]
     },
     "execution_count": 184,
     "metadata": {},
     "output_type": "execute_result"
    }
   ],
   "source": [
    "backtest_result['charts'].keys()"
   ]
  },
  {
   "cell_type": "code",
   "execution_count": 185,
   "metadata": {},
   "outputs": [
    {
     "data": {
      "text/plain": [
       "{'name': 'Benchmark'}"
      ]
     },
     "execution_count": 185,
     "metadata": {},
     "output_type": "execute_result"
    }
   ],
   "source": [
    "backtest_result['charts']['Benchmark']"
   ]
  },
  {
   "cell_type": "code",
   "execution_count": 187,
   "metadata": {},
   "outputs": [
    {
     "data": {
      "text/plain": [
       "dict_keys(['name', 'chartType', 'series'])"
      ]
     },
     "execution_count": 187,
     "metadata": {},
     "output_type": "execute_result"
    }
   ],
   "source": [
    "backtest_result['charts']['Strategy Equity'].keys()"
   ]
  },
  {
   "cell_type": "code",
   "execution_count": 188,
   "metadata": {},
   "outputs": [
    {
     "data": {
      "text/plain": [
       "'Strategy Equity'"
      ]
     },
     "execution_count": 188,
     "metadata": {},
     "output_type": "execute_result"
    }
   ],
   "source": [
    "backtest_result['charts']['Strategy Equity']['name']"
   ]
  },
  {
   "cell_type": "code",
   "execution_count": 189,
   "metadata": {},
   "outputs": [
    {
     "data": {
      "text/plain": [
       "0"
      ]
     },
     "execution_count": 189,
     "metadata": {},
     "output_type": "execute_result"
    }
   ],
   "source": [
    "backtest_result['charts']['Strategy Equity']['chartType']"
   ]
  },
  {
   "cell_type": "code",
   "execution_count": 191,
   "metadata": {},
   "outputs": [
    {
     "data": {
      "text/plain": [
       "dict_keys(['Equity', 'Return'])"
      ]
     },
     "execution_count": 191,
     "metadata": {},
     "output_type": "execute_result"
    }
   ],
   "source": [
    "backtest_result['charts']['Strategy Equity']['series'].keys()"
   ]
  },
  {
   "cell_type": "code",
   "execution_count": 193,
   "metadata": {},
   "outputs": [
    {
     "data": {
      "text/plain": [
       "dict_keys(['name', 'unit', 'index', 'seriesType', 'values'])"
      ]
     },
     "execution_count": 193,
     "metadata": {},
     "output_type": "execute_result"
    }
   ],
   "source": [
    "backtest_result['charts']['Strategy Equity']['series']['Equity'].keys()"
   ]
  },
  {
   "cell_type": "code",
   "execution_count": 209,
   "metadata": {},
   "outputs": [
    {
     "data": {
      "text/plain": [
       "dict_keys(['name', 'unit', 'index', 'seriesType', 'values', 'color', 'scatterMarkerSymbol'])"
      ]
     },
     "execution_count": 209,
     "metadata": {},
     "output_type": "execute_result"
    }
   ],
   "source": [
    "backtest_result['charts']['Strategy Equity']['series']['Return'].keys()"
   ]
  },
  {
   "cell_type": "code",
   "execution_count": 194,
   "metadata": {},
   "outputs": [
    {
     "data": {
      "text/plain": [
       "'$'"
      ]
     },
     "execution_count": 194,
     "metadata": {},
     "output_type": "execute_result"
    }
   ],
   "source": [
    "backtest_result['charts']['Strategy Equity']['series']['Equity']['unit']"
   ]
  },
  {
   "cell_type": "code",
   "execution_count": 195,
   "metadata": {},
   "outputs": [
    {
     "data": {
      "text/plain": [
       "2"
      ]
     },
     "execution_count": 195,
     "metadata": {},
     "output_type": "execute_result"
    }
   ],
   "source": [
    "backtest_result['charts']['Strategy Equity']['series']['Equity']['seriesType']"
   ]
  },
  {
   "cell_type": "code",
   "execution_count": 210,
   "metadata": {},
   "outputs": [
    {
     "data": {
      "image/png": "[encoded data removed]",
      "text/plain": [
       "<Figure size 640x480 with 1 Axes>"
      ]
     },
     "metadata": {},
     "output_type": "display_data"
    }
   ],
   "source": [
    "import matplotlib.pyplot as plt\n",
    "import pandas as pd\n",
    "\n",
    "# Assuming 'values' contains data points for the returns\n",
    "# Sample structure: [[timestamp, value], [timestamp, value], ...]\n",
    "returns_data = backtest_result['charts']['Strategy Equity']['series']['Return']['values']\n",
    "\n",
    "# Convert to DataFrame\n",
    "returns_df = pd.DataFrame(returns_data, columns=['Timestamp', 'Return'])\n",
    "\n",
    "# Convert Unix timestamps to human-readable dates\n",
    "returns_df['Date'] = pd.to_datetime(returns_df['Timestamp'], unit='s')\n",
    "\n",
    "# Plot the returns\n",
    "returns_df.plot(x='Date', y='Return', title='Equity Curve (Returns Over Time)')\n",
    "plt.xlabel('Date')\n",
    "plt.ylabel('Return')\n",
    "plt.show()\n"
   ]
  },
  {
   "cell_type": "code",
   "execution_count": 218,
   "metadata": {},
   "outputs": [
    {
     "data": {
      "text/plain": [
       "<Axes: title={'center': 'Equity Curve Over Time'}, xlabel='Date'>"
      ]
     },
     "execution_count": 218,
     "metadata": {},
     "output_type": "execute_result"
    },
    {
     "data": {
      "image/png": "[encoded data removed]",
      "text/plain": [
       "<Figure size 640x480 with 1 Axes>"
      ]
     },
     "metadata": {},
     "output_type": "display_data"
    }
   ],
   "source": [
    "equity_values = backtest_result['charts']['Strategy Equity']['series']['Equity']['values']\n",
    "df = pd.DataFrame(equity_values, columns=['Timestamp', 'Open', 'High', 'Low', 'Close'])\n",
    "df['Date'] = pd.to_datetime(df['Timestamp'], unit='s')\n",
    "\n",
    "# df = df[['Date', 'Starting Equity', 'Minimum Equity', 'Maximum Equity', 'Ending Equity']]\n",
    "df.index = df.Date\n",
    "df.plot(x='Date', y='Close', title='Equity Curve Over Time')"
   ]
  },
  {
   "cell_type": "code",
   "execution_count": 228,
   "metadata": {},
   "outputs": [],
   "source": [
    "# equity_values"
   ]
  },
  {
   "cell_type": "code",
   "execution_count": 227,
   "metadata": {},
   "outputs": [
    {
     "data": {
      "image/png": "[encoded data removed]",
      "text/plain": [
       "<Figure size 1200x800 with 2 Axes>"
      ]
     },
     "metadata": {},
     "output_type": "display_data"
    }
   ],
   "source": [
    "\n",
    "# Convert to DataFrame\n",
    "equity_values = backtest_result['charts']['Strategy Equity']['series']['Equity']['values']\n",
    "return_values = backtest_result['charts']['Strategy Equity']['series']['Return']['values']\n",
    "\n",
    "# Assuming equity_values has 5 elements and return_values has 2\n",
    "equity_df = pd.DataFrame(equity_values, columns=['Timestamp', 'Open', 'High', 'Low', 'Close'])\n",
    "return_df = pd.DataFrame(return_values, columns=['Timestamp', 'Return'])\n",
    "\n",
    "# Convert Unix timestamps to human-readable dates\n",
    "equity_df['Date'] = pd.to_datetime(equity_df['Timestamp'], unit='s')\n",
    "return_df['Date'] = pd.to_datetime(return_df['Timestamp'], unit='s')\n",
    "\n",
    "# Plotting\n",
    "fig, (ax1, ax2) = plt.subplots(2, 1, figsize=(12, 8))\n",
    "\n",
    "# Equity curve on the first subplot using the 'Close' value\n",
    "ax1.plot(equity_df['Date'], equity_df['Close'], label='Equity Curve', color='blue')\n",
    "ax1.set_title('Equity Curve')\n",
    "ax1.set_xlabel('Date')\n",
    "ax1.set_ylabel('Equity')\n",
    "ax1.grid(True)\n",
    "\n",
    "# Returns on the second subplot\n",
    "ax2.bar(return_df['Date'], return_df['Return'], label='Daily Returns', color='red')\n",
    "ax2.set_title('Returns')\n",
    "ax2.set_xlabel('Date')\n",
    "ax2.set_ylabel('Returns')\n",
    "ax2.grid(True)\n",
    "\n",
    "plt.tight_layout()\n",
    "plt.show()\n"
   ]
  },
  {
   "cell_type": "code",
   "execution_count": 208,
   "metadata": {},
   "outputs": [
    {
     "data": {
      "text/plain": [
       "{'name': 'Assets Sales Volume'}"
      ]
     },
     "execution_count": 208,
     "metadata": {},
     "output_type": "execute_result"
    }
   ],
   "source": [
    "backtest_result['charts']['Assets Sales Volume']"
   ]
  },
  {
   "cell_type": "code",
   "execution_count": null,
   "metadata": {},
   "outputs": [],
   "source": []
  },
  {
   "cell_type": "code",
   "execution_count": null,
   "metadata": {},
   "outputs": [],
   "source": []
  },
  {
   "cell_type": "code",
   "execution_count": 205,
   "metadata": {},
   "outputs": [
    {
     "data": {
      "text/plain": [
       "dict_keys(['Strategy Equity', 'Benchmark', 'Portfolio Margin', 'Assets Sales Volume', 'Portfolio Turnover', 'Capacity', 'Exposure', 'Drawdown'])"
      ]
     },
     "execution_count": 205,
     "metadata": {},
     "output_type": "execute_result"
    }
   ],
   "source": [
    "backtest_result['charts'].keys()"
   ]
  },
  {
   "cell_type": "code",
   "execution_count": null,
   "metadata": {},
   "outputs": [],
   "source": []
  },
  {
   "cell_type": "code",
   "execution_count": 182,
   "metadata": {},
   "outputs": [
    {
     "data": {
      "text/plain": [
       "8"
      ]
     },
     "execution_count": 182,
     "metadata": {},
     "output_type": "execute_result"
    }
   ],
   "source": [
    "len(backtest_result['charts'])"
   ]
  },
  {
   "cell_type": "code",
   "execution_count": null,
   "metadata": {},
   "outputs": [],
   "source": []
  },
  {
   "cell_type": "code",
   "execution_count": null,
   "metadata": {},
   "outputs": [],
   "source": []
  },
  {
   "cell_type": "code",
   "execution_count": 56,
   "metadata": {},
   "outputs": [
    {
     "data": {
      "text/plain": [
       "'QP_97HalfDayReversal'"
      ]
     },
     "execution_count": 56,
     "metadata": {},
     "output_type": "execute_result"
    }
   ],
   "source": [
    "fetch_project_details(project_id=19016182)['name']"
   ]
  },
  {
   "cell_type": "code",
   "execution_count": 154,
   "metadata": {},
   "outputs": [],
   "source": [
    "# 'outOfSampleMaxEndDate', 'outOfSampleDays' are empty "
   ]
  },
  {
   "cell_type": "code",
   "execution_count": null,
   "metadata": {},
   "outputs": [],
   "source": []
  },
  {
   "cell_type": "code",
   "execution_count": null,
   "metadata": {},
   "outputs": [],
   "source": []
  },
  {
   "cell_type": "code",
   "execution_count": null,
   "metadata": {},
   "outputs": [],
   "source": []
  },
  {
   "cell_type": "code",
   "execution_count": null,
   "metadata": {},
   "outputs": [],
   "source": []
  },
  {
   "cell_type": "code",
   "execution_count": 57,
   "metadata": {},
   "outputs": [],
   "source": [
    "backtest_keys = ['name', 'projectId', 'backtestId', 'tradeableDates', 'backtestStart', 'backtestEnd', ]"
   ]
  },
  {
   "cell_type": "code",
   "execution_count": 59,
   "metadata": {},
   "outputs": [
    {
     "name": "stdout",
     "output_type": "stream",
     "text": [
      "M1_  ::  68\n",
      "M3_  ::  68\n",
      "M6_  ::  68\n",
      "M12_  ::  68\n"
     ]
    }
   ],
   "source": [
    "aggregated_keys = {prefix: [key for key in backtest_result['rollingWindow'].keys() if key.startswith(prefix)] for prefix in ['M1_', 'M3_', 'M6_', 'M12_']}\n",
    "\n",
    "for k in aggregated_keys.keys():\n",
    "    print(k, ' :: ', len(aggregated_keys[k]))\n"
   ]
  },
  {
   "cell_type": "markdown",
   "metadata": {},
   "source": [
    "### Each key in rollingWindow such as 'M1_20190131' has 3 sub keys:\n",
    "backtest_result['rollingWindow']['M1_20190131']['portfolioStatistics'].keys()\n",
    "\n",
    "\n",
    "    1. tradeStatistics\n",
    "    2. portfolioStatistics\n",
    "    3. closedTrades\n",
    "\n",
    "1. tradeStatistics Keys: ['startDateTime', 'endDateTime', 'totalNumberOfTrades', 'numberOfWinningTrades', 'numberOfLosingTrades', 'totalProfitLoss', 'totalProfit', 'totalLoss', 'largestProfit', 'largestLoss', 'averageProfitLoss', 'averageProfit', 'averageLoss', 'averageTradeDuration', 'averageWinningTradeDuration', 'averageLosingTradeDuration', 'medianTradeDuration', 'medianWinningTradeDuration', 'medianLosingTradeDuration', 'maxConsecutiveWinningTrades', 'maxConsecutiveLosingTrades', 'profitLossRatio', 'winLossRatio', 'winRate', 'lossRate', 'averageMAE', 'averageMFE', 'largestMAE', 'largestMFE', 'maximumClosedTradeDrawdown', 'maximumIntraTradeDrawdown', 'profitLossStandardDeviation', 'profitLossDownsideDeviation', 'profitFactor', 'sharpeRatio', 'sortinoRatio', 'profitToMaxDrawdownRatio', 'maximumEndTradeDrawdown', 'averageEndTradeDrawdown', 'maximumDrawdownDuration', 'totalFees']\n",
    "\n",
    "\n",
    "2. portfolioStatistics Keys : ['averageWinRate', 'averageLossRate', 'profitLossRatio', 'winRate', 'lossRate', 'expectancy', 'startEquity', 'endEquity', 'compoundingAnnualReturn', 'drawdown', 'totalNetProfit', 'sharpeRatio', 'probabilisticSharpeRatio', 'sortinoRatio', 'alpha', 'beta', 'annualStandardDeviation', 'annualVariance', 'informationRatio', 'trackingError', 'treynorRatio', 'portfolioTurnover', 'valueAtRisk99', 'valueAtRisk95']\n",
    "\n",
    "3. Issue is getting empty closedTrades for all rollingWindow keys such as backtest_result['rollingWindow']['M1_20190131']['closedTrades']\n"
   ]
  },
  {
   "cell_type": "code",
   "execution_count": 70,
   "metadata": {},
   "outputs": [
    {
     "data": {
      "text/html": [
       "<div>\n",
       "<style scoped>\n",
       "    .dataframe tbody tr th:only-of-type {\n",
       "        vertical-align: middle;\n",
       "    }\n",
       "\n",
       "    .dataframe tbody tr th {\n",
       "        vertical-align: top;\n",
       "    }\n",
       "\n",
       "    .dataframe thead th {\n",
       "        text-align: right;\n",
       "    }\n",
       "</style>\n",
       "<table border=\"1\" class=\"dataframe\">\n",
       "  <thead>\n",
       "    <tr style=\"text-align: right;\">\n",
       "      <th></th>\n",
       "      <th>Date</th>\n",
       "      <th>startDateTime</th>\n",
       "      <th>endDateTime</th>\n",
       "      <th>totalNumberOfTrades</th>\n",
       "      <th>numberOfWinningTrades</th>\n",
       "      <th>numberOfLosingTrades</th>\n",
       "      <th>totalProfitLoss</th>\n",
       "      <th>totalProfit</th>\n",
       "      <th>totalLoss</th>\n",
       "      <th>largestProfit</th>\n",
       "      <th>largestLoss</th>\n",
       "      <th>averageProfitLoss</th>\n",
       "      <th>averageProfit</th>\n",
       "      <th>averageLoss</th>\n",
       "      <th>averageTradeDuration</th>\n",
       "      <th>averageWinningTradeDuration</th>\n",
       "      <th>averageLosingTradeDuration</th>\n",
       "      <th>medianTradeDuration</th>\n",
       "      <th>medianWinningTradeDuration</th>\n",
       "      <th>medianLosingTradeDuration</th>\n",
       "      <th>maxConsecutiveWinningTrades</th>\n",
       "      <th>maxConsecutiveLosingTrades</th>\n",
       "      <th>profitLossRatio</th>\n",
       "      <th>winLossRatio</th>\n",
       "      <th>winRate</th>\n",
       "      <th>lossRate</th>\n",
       "      <th>averageMAE</th>\n",
       "      <th>averageMFE</th>\n",
       "      <th>largestMAE</th>\n",
       "      <th>largestMFE</th>\n",
       "      <th>maximumClosedTradeDrawdown</th>\n",
       "      <th>maximumIntraTradeDrawdown</th>\n",
       "      <th>profitLossStandardDeviation</th>\n",
       "      <th>profitLossDownsideDeviation</th>\n",
       "      <th>profitFactor</th>\n",
       "      <th>sharpeRatio</th>\n",
       "      <th>sortinoRatio</th>\n",
       "      <th>profitToMaxDrawdownRatio</th>\n",
       "      <th>maximumEndTradeDrawdown</th>\n",
       "      <th>averageEndTradeDrawdown</th>\n",
       "      <th>maximumDrawdownDuration</th>\n",
       "      <th>totalFees</th>\n",
       "      <th>averageWinRate</th>\n",
       "      <th>averageLossRate</th>\n",
       "      <th>expectancy</th>\n",
       "      <th>startEquity</th>\n",
       "      <th>endEquity</th>\n",
       "      <th>compoundingAnnualReturn</th>\n",
       "      <th>drawdown</th>\n",
       "      <th>totalNetProfit</th>\n",
       "      <th>probabilisticSharpeRatio</th>\n",
       "      <th>alpha</th>\n",
       "      <th>beta</th>\n",
       "      <th>annualStandardDeviation</th>\n",
       "      <th>annualVariance</th>\n",
       "      <th>informationRatio</th>\n",
       "      <th>trackingError</th>\n",
       "      <th>treynorRatio</th>\n",
       "      <th>portfolioTurnover</th>\n",
       "      <th>valueAtRisk99</th>\n",
       "      <th>valueAtRisk95</th>\n",
       "    </tr>\n",
       "  </thead>\n",
       "  <tbody>\n",
       "    <tr>\n",
       "      <th>0</th>\n",
       "      <td>M1_20190131</td>\n",
       "      <td>2019-01-03T21:00:00Z</td>\n",
       "      <td>2019-01-31T15:00:00Z</td>\n",
       "      <td>564</td>\n",
       "      <td>314</td>\n",
       "      <td>250</td>\n",
       "      <td>3639.87</td>\n",
       "      <td>10614.30</td>\n",
       "      <td>-6974.43</td>\n",
       "      <td>411.75</td>\n",
       "      <td>-809.19</td>\n",
       "      <td>6.4537</td>\n",
       "      <td>33.8035</td>\n",
       "      <td>-27.8977</td>\n",
       "      <td>1.05:24:15.3191570</td>\n",
       "      <td>22:35:09.5541469</td>\n",
       "      <td>1.13:58:04.8000011</td>\n",
       "      <td>18:00:00</td>\n",
       "      <td>18:00:00</td>\n",
       "      <td>18:00:00</td>\n",
       "      <td>29</td>\n",
       "      <td>34</td>\n",
       "      <td>1.1966</td>\n",
       "      <td>1.256</td>\n",
       "      <td>0.5550</td>\n",
       "      <td>0.4450</td>\n",
       "      <td>-19.5538</td>\n",
       "      <td>34.2707</td>\n",
       "      <td>-847.58</td>\n",
       "      <td>601.94</td>\n",
       "      <td>-2858.82</td>\n",
       "      <td>-2910.07</td>\n",
       "      <td>62.4613</td>\n",
       "      <td>66.1793</td>\n",
       "      <td>1.5219</td>\n",
       "      <td>3.2518</td>\n",
       "      <td>6.3255</td>\n",
       "      <td>1.2732</td>\n",
       "      <td>-809.19</td>\n",
       "      <td>-27.8170</td>\n",
       "      <td>21.00:00:00</td>\n",
       "      <td>191.2980</td>\n",
       "      <td>0.0003</td>\n",
       "      <td>-0.0003</td>\n",
       "      <td>0.2190</td>\n",
       "      <td>100000</td>\n",
       "      <td>103448.5507</td>\n",
       "      <td>0.4996</td>\n",
       "      <td>0.027</td>\n",
       "      <td>0.0345</td>\n",
       "      <td>0.7772</td>\n",
       "      <td>0.0030</td>\n",
       "      <td>0.3858</td>\n",
       "      <td>0.0959</td>\n",
       "      <td>0.0092</td>\n",
       "      <td>-4.0293</td>\n",
       "      <td>0.1214</td>\n",
       "      <td>0.8088</td>\n",
       "      <td>1.2167</td>\n",
       "      <td>-0.013</td>\n",
       "      <td>-0.009</td>\n",
       "    </tr>\n",
       "    <tr>\n",
       "      <th>1</th>\n",
       "      <td>M1_20190228</td>\n",
       "      <td>2019-01-31T21:00:00Z</td>\n",
       "      <td>2019-02-28T15:00:00Z</td>\n",
       "      <td>568</td>\n",
       "      <td>239</td>\n",
       "      <td>329</td>\n",
       "      <td>-1346.06</td>\n",
       "      <td>6090.08</td>\n",
       "      <td>-7436.14</td>\n",
       "      <td>302.34</td>\n",
       "      <td>-312.09</td>\n",
       "      <td>-2.3698</td>\n",
       "      <td>25.4815</td>\n",
       "      <td>-22.6022</td>\n",
       "      <td>1.05:19:26.1971918</td>\n",
       "      <td>1.04:44:41.1715509</td>\n",
       "      <td>1.05:44:40.8510690</td>\n",
       "      <td>18:00:00</td>\n",
       "      <td>18:00:00</td>\n",
       "      <td>18:00:00</td>\n",
       "      <td>19</td>\n",
       "      <td>25</td>\n",
       "      <td>1.1141</td>\n",
       "      <td>0.7264</td>\n",
       "      <td>0.4173</td>\n",
       "      <td>0.5827</td>\n",
       "      <td>-22.9705</td>\n",
       "      <td>20.9122</td>\n",
       "      <td>-312.09</td>\n",
       "      <td>398.45</td>\n",
       "      <td>-2881.42</td>\n",
       "      <td>-3040.24</td>\n",
       "      <td>41.2807</td>\n",
       "      <td>31.2417</td>\n",
       "      <td>0.8190</td>\n",
       "      <td>-2.1383</td>\n",
       "      <td>-2.4245</td>\n",
       "      <td>-0.4672</td>\n",
       "      <td>-312.09</td>\n",
       "      <td>-23.2820</td>\n",
       "      <td>4.00:00:00</td>\n",
       "      <td>190.9436</td>\n",
       "      <td>0.0002</td>\n",
       "      <td>-0.0002</td>\n",
       "      <td>-0.1179</td>\n",
       "      <td>103443.471</td>\n",
       "      <td>101911.5728</td>\n",
       "      <td>-0.1801</td>\n",
       "      <td>0.027</td>\n",
       "      <td>-0.0148</td>\n",
       "      <td>0.1822</td>\n",
       "      <td>-0.4181</td>\n",
       "      <td>0.7687</td>\n",
       "      <td>0.0683</td>\n",
       "      <td>0.0047</td>\n",
       "      <td>-10.9774</td>\n",
       "      <td>0.0455</td>\n",
       "      <td>-0.1900</td>\n",
       "      <td>1.3330</td>\n",
       "      <td>-0.011</td>\n",
       "      <td>-0.008</td>\n",
       "    </tr>\n",
       "    <tr>\n",
       "      <th>2</th>\n",
       "      <td>M1_20190331</td>\n",
       "      <td>2019-02-28T21:00:00Z</td>\n",
       "      <td>2019-03-29T14:00:00Z</td>\n",
       "      <td>624</td>\n",
       "      <td>357</td>\n",
       "      <td>267</td>\n",
       "      <td>3230.15</td>\n",
       "      <td>10241.52</td>\n",
       "      <td>-7011.37</td>\n",
       "      <td>2094.2</td>\n",
       "      <td>-387.8</td>\n",
       "      <td>5.1765</td>\n",
       "      <td>28.6877</td>\n",
       "      <td>-26.2598</td>\n",
       "      <td>1.03:06:20.7692410</td>\n",
       "      <td>1.03:44:52.4369813</td>\n",
       "      <td>1.02:14:49.8876438</td>\n",
       "      <td>18:00:00</td>\n",
       "      <td>18:00:00</td>\n",
       "      <td>18:00:00</td>\n",
       "      <td>29</td>\n",
       "      <td>19</td>\n",
       "      <td>1.0900</td>\n",
       "      <td>1.3371</td>\n",
       "      <td>0.5673</td>\n",
       "      <td>0.4327</td>\n",
       "      <td>-26.4981</td>\n",
       "      <td>27.6348</td>\n",
       "      <td>-403.20</td>\n",
       "      <td>2597.40</td>\n",
       "      <td>-2221.60</td>\n",
       "      <td>-2857.67</td>\n",
       "      <td>103.5657</td>\n",
       "      <td>46.2039</td>\n",
       "      <td>1.4607</td>\n",
       "      <td>2.2014</td>\n",
       "      <td>2.4662</td>\n",
       "      <td>1.4540</td>\n",
       "      <td>-806.40</td>\n",
       "      <td>-22.4583</td>\n",
       "      <td>21.23:00:00</td>\n",
       "      <td>213.4913</td>\n",
       "      <td>0.0003</td>\n",
       "      <td>-0.0003</td>\n",
       "      <td>0.1857</td>\n",
       "      <td>101906.5591</td>\n",
       "      <td>104923.1277</td>\n",
       "      <td>0.4268</td>\n",
       "      <td>0.018</td>\n",
       "      <td>0.0296</td>\n",
       "      <td>0.6680</td>\n",
       "      <td>0.1856</td>\n",
       "      <td>0.0436</td>\n",
       "      <td>0.0860</td>\n",
       "      <td>0.0074</td>\n",
       "      <td>0.8401</td>\n",
       "      <td>0.1272</td>\n",
       "      <td>4.3369</td>\n",
       "      <td>1.3959</td>\n",
       "      <td>-0.012</td>\n",
       "      <td>-0.008</td>\n",
       "    </tr>\n",
       "  </tbody>\n",
       "</table>\n",
       "</div>"
      ],
      "text/plain": [
       "          Date         startDateTime           endDateTime  \\\n",
       "0  M1_20190131  2019-01-03T21:00:00Z  2019-01-31T15:00:00Z   \n",
       "1  M1_20190228  2019-01-31T21:00:00Z  2019-02-28T15:00:00Z   \n",
       "2  M1_20190331  2019-02-28T21:00:00Z  2019-03-29T14:00:00Z   \n",
       "\n",
       "   totalNumberOfTrades  numberOfWinningTrades  numberOfLosingTrades  \\\n",
       "0                  564                    314                   250   \n",
       "1                  568                    239                   329   \n",
       "2                  624                    357                   267   \n",
       "\n",
       "  totalProfitLoss totalProfit totalLoss largestProfit largestLoss  \\\n",
       "0         3639.87    10614.30  -6974.43        411.75     -809.19   \n",
       "1        -1346.06     6090.08  -7436.14        302.34     -312.09   \n",
       "2         3230.15    10241.52  -7011.37        2094.2      -387.8   \n",
       "\n",
       "  averageProfitLoss averageProfit averageLoss averageTradeDuration  \\\n",
       "0            6.4537       33.8035    -27.8977   1.05:24:15.3191570   \n",
       "1           -2.3698       25.4815    -22.6022   1.05:19:26.1971918   \n",
       "2            5.1765       28.6877    -26.2598   1.03:06:20.7692410   \n",
       "\n",
       "  averageWinningTradeDuration averageLosingTradeDuration medianTradeDuration  \\\n",
       "0            22:35:09.5541469         1.13:58:04.8000011            18:00:00   \n",
       "1          1.04:44:41.1715509         1.05:44:40.8510690            18:00:00   \n",
       "2          1.03:44:52.4369813         1.02:14:49.8876438            18:00:00   \n",
       "\n",
       "  medianWinningTradeDuration medianLosingTradeDuration  \\\n",
       "0                   18:00:00                  18:00:00   \n",
       "1                   18:00:00                  18:00:00   \n",
       "2                   18:00:00                  18:00:00   \n",
       "\n",
       "   maxConsecutiveWinningTrades  maxConsecutiveLosingTrades profitLossRatio  \\\n",
       "0                           29                          34          1.1966   \n",
       "1                           19                          25          1.1141   \n",
       "2                           29                          19          1.0900   \n",
       "\n",
       "  winLossRatio winRate lossRate averageMAE averageMFE largestMAE largestMFE  \\\n",
       "0        1.256  0.5550   0.4450   -19.5538    34.2707    -847.58     601.94   \n",
       "1       0.7264  0.4173   0.5827   -22.9705    20.9122    -312.09     398.45   \n",
       "2       1.3371  0.5673   0.4327   -26.4981    27.6348    -403.20    2597.40   \n",
       "\n",
       "  maximumClosedTradeDrawdown maximumIntraTradeDrawdown  \\\n",
       "0                   -2858.82                  -2910.07   \n",
       "1                   -2881.42                  -3040.24   \n",
       "2                   -2221.60                  -2857.67   \n",
       "\n",
       "  profitLossStandardDeviation profitLossDownsideDeviation profitFactor  \\\n",
       "0                     62.4613                     66.1793       1.5219   \n",
       "1                     41.2807                     31.2417       0.8190   \n",
       "2                    103.5657                     46.2039       1.4607   \n",
       "\n",
       "  sharpeRatio sortinoRatio profitToMaxDrawdownRatio maximumEndTradeDrawdown  \\\n",
       "0      3.2518       6.3255                   1.2732                 -809.19   \n",
       "1     -2.1383      -2.4245                  -0.4672                 -312.09   \n",
       "2      2.2014       2.4662                   1.4540                 -806.40   \n",
       "\n",
       "  averageEndTradeDrawdown maximumDrawdownDuration totalFees averageWinRate  \\\n",
       "0                -27.8170             21.00:00:00  191.2980         0.0003   \n",
       "1                -23.2820              4.00:00:00  190.9436         0.0002   \n",
       "2                -22.4583             21.23:00:00  213.4913         0.0003   \n",
       "\n",
       "  averageLossRate expectancy  startEquity    endEquity  \\\n",
       "0         -0.0003     0.2190       100000  103448.5507   \n",
       "1         -0.0002    -0.1179   103443.471  101911.5728   \n",
       "2         -0.0003     0.1857  101906.5591  104923.1277   \n",
       "\n",
       "  compoundingAnnualReturn drawdown totalNetProfit probabilisticSharpeRatio  \\\n",
       "0                  0.4996    0.027         0.0345                   0.7772   \n",
       "1                 -0.1801    0.027        -0.0148                   0.1822   \n",
       "2                  0.4268    0.018         0.0296                   0.6680   \n",
       "\n",
       "     alpha    beta annualStandardDeviation annualVariance informationRatio  \\\n",
       "0   0.0030  0.3858                  0.0959         0.0092          -4.0293   \n",
       "1  -0.4181  0.7687                  0.0683         0.0047         -10.9774   \n",
       "2   0.1856  0.0436                  0.0860         0.0074           0.8401   \n",
       "\n",
       "  trackingError treynorRatio portfolioTurnover valueAtRisk99 valueAtRisk95  \n",
       "0        0.1214       0.8088            1.2167        -0.013        -0.009  \n",
       "1        0.0455      -0.1900            1.3330        -0.011        -0.008  \n",
       "2        0.1272       4.3369            1.3959        -0.012        -0.008  "
      ]
     },
     "execution_count": 70,
     "metadata": {},
     "output_type": "execute_result"
    }
   ],
   "source": [
    "# merges all values of tradeStatistics and portfolioStatistics with each key as a row (eg. 'M1_20190131') in backtest_result['rollingWindow']\n",
    "data = []\n",
    "for key, value in backtest_result['rollingWindow'].items():\n",
    "    row = {'Date': key, **value['tradeStatistics'], **value['portfolioStatistics']}\n",
    "    data.append(row)\n",
    "\n",
    "df = pd.DataFrame(data)\n",
    "df.head(3)"
   ]
  },
  {
   "cell_type": "markdown",
   "metadata": {},
   "source": [
    "### runtimeStatistics"
   ]
  },
  {
   "cell_type": "code",
   "execution_count": 72,
   "metadata": {},
   "outputs": [
    {
     "data": {
      "text/plain": [
       "{'Equity': '$46,717.60',\n",
       " 'Fees': '-$9,892.08',\n",
       " 'Holdings': '$43,612.00',\n",
       " 'Net Profit': '$-53,282.40',\n",
       " 'Probabilistic Sharpe Ratio': '0.002%',\n",
       " 'Return': '-53.28 %',\n",
       " 'Unrealized': '$-2.18',\n",
       " 'Volume': '$197,886,426.77'}"
      ]
     },
     "execution_count": 72,
     "metadata": {},
     "output_type": "execute_result"
    }
   ],
   "source": [
    "backtest_result['runtimeStatistics']"
   ]
  },
  {
   "cell_type": "markdown",
   "metadata": {},
   "source": [
    "### statistics"
   ]
  },
  {
   "cell_type": "code",
   "execution_count": 78,
   "metadata": {},
   "outputs": [
    {
     "data": {
      "text/plain": [
       "{'Total Orders': '82281',\n",
       " 'Average Win': '0.04%',\n",
       " 'Average Loss': '-0.05%',\n",
       " 'Compounding Annual Return': '-12.707%',\n",
       " 'Drawdown': '63.100%',\n",
       " 'Expectancy': '-0.040',\n",
       " 'Start Equity': '100000',\n",
       " 'End Equity': '46717.60',\n",
       " 'Net Profit': '-53.282%',\n",
       " 'Sharpe Ratio': '-0.528',\n",
       " 'Sortino Ratio': '-0.461',\n",
       " 'Probabilistic Sharpe Ratio': '0.002%',\n",
       " 'Loss Rate': '49%',\n",
       " 'Win Rate': '51%',\n",
       " 'Profit-Loss Ratio': '0.87',\n",
       " 'Alpha': '-0.162',\n",
       " 'Beta': '0.661',\n",
       " 'Annual Standard Deviation': '0.186',\n",
       " 'Annual Variance': '0.035',\n",
       " 'Information Ratio': '-1.218',\n",
       " 'Tracking Error': '0.16',\n",
       " 'Treynor Ratio': '-0.149',\n",
       " 'Total Fees': '$9892.08',\n",
       " 'Estimated Strategy Capacity': '$11000000.00',\n",
       " 'Lowest Capacity Asset': 'BURL VKET4LM50ZFP',\n",
       " 'Portfolio Turnover': '132.13%'}"
      ]
     },
     "execution_count": 78,
     "metadata": {},
     "output_type": "execute_result"
    }
   ],
   "source": [
    "# For a Specific Backtest for a specific Project\n",
    "backtest_result['statistics']"
   ]
  },
  {
   "cell_type": "markdown",
   "metadata": {},
   "source": [
    "## totalPerformance"
   ]
  },
  {
   "cell_type": "code",
   "execution_count": 156,
   "metadata": {},
   "outputs": [
    {
     "data": {
      "text/plain": [
       "dict_keys(['tradeStatistics', 'portfolioStatistics', 'closedTrades'])"
      ]
     },
     "execution_count": 156,
     "metadata": {},
     "output_type": "execute_result"
    }
   ],
   "source": [
    "backtest_result['totalPerformance'].keys()"
   ]
  },
  {
   "cell_type": "markdown",
   "metadata": {},
   "source": [
    "### 'totalPerformance' >> 'closedTrades'\n",
    "\n",
    "direction is 0 always for some reason"
   ]
  },
  {
   "cell_type": "code",
   "execution_count": null,
   "metadata": {},
   "outputs": [],
   "source": [
    "print(len(backtest_result['totalPerformance']['closedTrades']))\n",
    "backtest_result['totalPerformance']['closedTrades'][0]"
   ]
  },
  {
   "cell_type": "code",
   "execution_count": 155,
   "metadata": {},
   "outputs": [
    {
     "data": {
      "text/html": [
       "<div>\n",
       "<style scoped>\n",
       "    .dataframe tbody tr th:only-of-type {\n",
       "        vertical-align: middle;\n",
       "    }\n",
       "\n",
       "    .dataframe tbody tr th {\n",
       "        vertical-align: top;\n",
       "    }\n",
       "\n",
       "    .dataframe thead th {\n",
       "        text-align: right;\n",
       "    }\n",
       "</style>\n",
       "<table border=\"1\" class=\"dataframe\">\n",
       "  <thead>\n",
       "    <tr style=\"text-align: right;\">\n",
       "      <th></th>\n",
       "      <th>symbol_permtick</th>\n",
       "      <th>entryTime</th>\n",
       "      <th>entryPrice</th>\n",
       "      <th>quantity</th>\n",
       "      <th>exitTime</th>\n",
       "      <th>exitPrice</th>\n",
       "      <th>profitLoss</th>\n",
       "      <th>totalFees</th>\n",
       "      <th>mae</th>\n",
       "      <th>mfe</th>\n",
       "      <th>duration</th>\n",
       "      <th>endTradeDrawdown</th>\n",
       "      <th>isWin</th>\n",
       "    </tr>\n",
       "  </thead>\n",
       "  <tbody>\n",
       "    <tr>\n",
       "      <th>0</th>\n",
       "      <td>WP</td>\n",
       "      <td>2019-01-03T21:00:00Z</td>\n",
       "      <td>72.470000</td>\n",
       "      <td>45</td>\n",
       "      <td>2019-01-04T15:00:00Z</td>\n",
       "      <td>73.600000</td>\n",
       "      <td>50.85</td>\n",
       "      <td>0.328815</td>\n",
       "      <td>0.00</td>\n",
       "      <td>54.00</td>\n",
       "      <td>18:00:00</td>\n",
       "      <td>-3.15</td>\n",
       "      <td>True</td>\n",
       "    </tr>\n",
       "    <tr>\n",
       "      <th>1</th>\n",
       "      <td>GM</td>\n",
       "      <td>2019-01-03T21:00:00Z</td>\n",
       "      <td>29.947524</td>\n",
       "      <td>111</td>\n",
       "      <td>2019-01-04T15:00:00Z</td>\n",
       "      <td>30.458257</td>\n",
       "      <td>56.69</td>\n",
       "      <td>0.335252</td>\n",
       "      <td>0.00</td>\n",
       "      <td>56.69</td>\n",
       "      <td>18:00:00</td>\n",
       "      <td>0.00</td>\n",
       "      <td>True</td>\n",
       "    </tr>\n",
       "    <tr>\n",
       "      <th>2</th>\n",
       "      <td>EL</td>\n",
       "      <td>2019-01-03T21:00:00Z</td>\n",
       "      <td>118.468356</td>\n",
       "      <td>28</td>\n",
       "      <td>2019-01-04T15:00:00Z</td>\n",
       "      <td>120.165070</td>\n",
       "      <td>47.51</td>\n",
       "      <td>0.335921</td>\n",
       "      <td>0.00</td>\n",
       "      <td>84.19</td>\n",
       "      <td>18:00:00</td>\n",
       "      <td>-36.68</td>\n",
       "      <td>True</td>\n",
       "    </tr>\n",
       "    <tr>\n",
       "      <th>3</th>\n",
       "      <td>MGM</td>\n",
       "      <td>2019-01-03T21:00:00Z</td>\n",
       "      <td>24.051422</td>\n",
       "      <td>137</td>\n",
       "      <td>2019-01-04T15:00:00Z</td>\n",
       "      <td>24.791466</td>\n",
       "      <td>101.39</td>\n",
       "      <td>0.335174</td>\n",
       "      <td>0.00</td>\n",
       "      <td>113.39</td>\n",
       "      <td>18:00:00</td>\n",
       "      <td>-12.00</td>\n",
       "      <td>True</td>\n",
       "    </tr>\n",
       "    <tr>\n",
       "      <th>4</th>\n",
       "      <td>WDC</td>\n",
       "      <td>2019-01-03T21:00:00Z</td>\n",
       "      <td>33.835329</td>\n",
       "      <td>98</td>\n",
       "      <td>2019-01-04T15:00:00Z</td>\n",
       "      <td>34.736972</td>\n",
       "      <td>88.36</td>\n",
       "      <td>0.336004</td>\n",
       "      <td>0.00</td>\n",
       "      <td>88.36</td>\n",
       "      <td>18:00:00</td>\n",
       "      <td>0.00</td>\n",
       "      <td>True</td>\n",
       "    </tr>\n",
       "    <tr>\n",
       "      <th>...</th>\n",
       "      <td>...</td>\n",
       "      <td>...</td>\n",
       "      <td>...</td>\n",
       "      <td>...</td>\n",
       "      <td>...</td>\n",
       "      <td>...</td>\n",
       "      <td>...</td>\n",
       "      <td>...</td>\n",
       "      <td>...</td>\n",
       "      <td>...</td>\n",
       "      <td>...</td>\n",
       "      <td>...</td>\n",
       "      <td>...</td>\n",
       "    </tr>\n",
       "    <tr>\n",
       "      <th>41100</th>\n",
       "      <td>ROKU</td>\n",
       "      <td>2024-08-02T20:00:00Z</td>\n",
       "      <td>53.140000</td>\n",
       "      <td>31</td>\n",
       "      <td>2024-08-05T14:00:00Z</td>\n",
       "      <td>49.850000</td>\n",
       "      <td>-101.99</td>\n",
       "      <td>0.158983</td>\n",
       "      <td>-115.01</td>\n",
       "      <td>0.00</td>\n",
       "      <td>2.18:00:00</td>\n",
       "      <td>-101.99</td>\n",
       "      <td>False</td>\n",
       "    </tr>\n",
       "    <tr>\n",
       "      <th>41101</th>\n",
       "      <td>MRNA</td>\n",
       "      <td>2024-08-02T20:00:00Z</td>\n",
       "      <td>86.580000</td>\n",
       "      <td>19</td>\n",
       "      <td>2024-08-05T14:00:00Z</td>\n",
       "      <td>80.210000</td>\n",
       "      <td>-121.03</td>\n",
       "      <td>0.161994</td>\n",
       "      <td>-121.03</td>\n",
       "      <td>0.00</td>\n",
       "      <td>2.18:00:00</td>\n",
       "      <td>-121.03</td>\n",
       "      <td>False</td>\n",
       "    </tr>\n",
       "    <tr>\n",
       "      <th>41102</th>\n",
       "      <td>ASTS</td>\n",
       "      <td>2024-08-02T20:00:00Z</td>\n",
       "      <td>18.510000</td>\n",
       "      <td>90</td>\n",
       "      <td>2024-08-05T14:00:00Z</td>\n",
       "      <td>17.950000</td>\n",
       "      <td>-50.40</td>\n",
       "      <td>0.168435</td>\n",
       "      <td>-50.40</td>\n",
       "      <td>36.90</td>\n",
       "      <td>2.18:00:00</td>\n",
       "      <td>-87.30</td>\n",
       "      <td>False</td>\n",
       "    </tr>\n",
       "    <tr>\n",
       "      <th>41103</th>\n",
       "      <td>PRU</td>\n",
       "      <td>2024-08-02T20:00:00Z</td>\n",
       "      <td>110.260000</td>\n",
       "      <td>15</td>\n",
       "      <td>2024-08-05T14:00:00Z</td>\n",
       "      <td>108.170000</td>\n",
       "      <td>-31.35</td>\n",
       "      <td>0.161760</td>\n",
       "      <td>-72.60</td>\n",
       "      <td>0.00</td>\n",
       "      <td>2.18:00:00</td>\n",
       "      <td>-31.35</td>\n",
       "      <td>False</td>\n",
       "    </tr>\n",
       "    <tr>\n",
       "      <th>41104</th>\n",
       "      <td>CLSK</td>\n",
       "      <td>2024-08-02T20:00:00Z</td>\n",
       "      <td>13.480000</td>\n",
       "      <td>124</td>\n",
       "      <td>2024-08-05T14:00:00Z</td>\n",
       "      <td>10.000000</td>\n",
       "      <td>-431.52</td>\n",
       "      <td>0.153760</td>\n",
       "      <td>-431.52</td>\n",
       "      <td>0.00</td>\n",
       "      <td>2.18:00:00</td>\n",
       "      <td>-431.52</td>\n",
       "      <td>False</td>\n",
       "    </tr>\n",
       "  </tbody>\n",
       "</table>\n",
       "<p>41105 rows × 13 columns</p>\n",
       "</div>"
      ],
      "text/plain": [
       "      symbol_permtick             entryTime  entryPrice  quantity  \\\n",
       "0                  WP  2019-01-03T21:00:00Z   72.470000        45   \n",
       "1                  GM  2019-01-03T21:00:00Z   29.947524       111   \n",
       "2                  EL  2019-01-03T21:00:00Z  118.468356        28   \n",
       "3                 MGM  2019-01-03T21:00:00Z   24.051422       137   \n",
       "4                 WDC  2019-01-03T21:00:00Z   33.835329        98   \n",
       "...               ...                   ...         ...       ...   \n",
       "41100            ROKU  2024-08-02T20:00:00Z   53.140000        31   \n",
       "41101            MRNA  2024-08-02T20:00:00Z   86.580000        19   \n",
       "41102            ASTS  2024-08-02T20:00:00Z   18.510000        90   \n",
       "41103             PRU  2024-08-02T20:00:00Z  110.260000        15   \n",
       "41104            CLSK  2024-08-02T20:00:00Z   13.480000       124   \n",
       "\n",
       "                   exitTime   exitPrice  profitLoss  totalFees     mae  \\\n",
       "0      2019-01-04T15:00:00Z   73.600000       50.85   0.328815    0.00   \n",
       "1      2019-01-04T15:00:00Z   30.458257       56.69   0.335252    0.00   \n",
       "2      2019-01-04T15:00:00Z  120.165070       47.51   0.335921    0.00   \n",
       "3      2019-01-04T15:00:00Z   24.791466      101.39   0.335174    0.00   \n",
       "4      2019-01-04T15:00:00Z   34.736972       88.36   0.336004    0.00   \n",
       "...                     ...         ...         ...        ...     ...   \n",
       "41100  2024-08-05T14:00:00Z   49.850000     -101.99   0.158983 -115.01   \n",
       "41101  2024-08-05T14:00:00Z   80.210000     -121.03   0.161994 -121.03   \n",
       "41102  2024-08-05T14:00:00Z   17.950000      -50.40   0.168435  -50.40   \n",
       "41103  2024-08-05T14:00:00Z  108.170000      -31.35   0.161760  -72.60   \n",
       "41104  2024-08-05T14:00:00Z   10.000000     -431.52   0.153760 -431.52   \n",
       "\n",
       "          mfe    duration  endTradeDrawdown  isWin  \n",
       "0       54.00    18:00:00             -3.15   True  \n",
       "1       56.69    18:00:00              0.00   True  \n",
       "2       84.19    18:00:00            -36.68   True  \n",
       "3      113.39    18:00:00            -12.00   True  \n",
       "4       88.36    18:00:00              0.00   True  \n",
       "...       ...         ...               ...    ...  \n",
       "41100    0.00  2.18:00:00           -101.99  False  \n",
       "41101    0.00  2.18:00:00           -121.03  False  \n",
       "41102   36.90  2.18:00:00            -87.30  False  \n",
       "41103    0.00  2.18:00:00            -31.35  False  \n",
       "41104    0.00  2.18:00:00           -431.52  False  \n",
       "\n",
       "[41105 rows x 13 columns]"
      ]
     },
     "execution_count": 155,
     "metadata": {},
     "output_type": "execute_result"
    }
   ],
   "source": [
    "df = pd.DataFrame([{**{f'symbol_{k}': v for k, v in t.get('symbol', {}).items()}, **t} for t in backtest_result['totalPerformance']['closedTrades']])\n",
    "df.drop(columns=['symbol', 'direction','symbol_value','symbol_id'], inplace=True)\n",
    "# df.sort_values(['entryTime','exitTime'], inplace=True)\n",
    "df\n"
   ]
  },
  {
   "cell_type": "code",
   "execution_count": 166,
   "metadata": {},
   "outputs": [
    {
     "name": "stderr",
     "output_type": "stream",
     "text": [
      "/Users/faisal/miniconda3/envs/pytorchbook/lib/python3.11/site-packages/seaborn/_oldcore.py:1119: FutureWarning: use_inf_as_na option is deprecated and will be removed in a future version. Convert inf values to NaN before operating instead.\n",
      "  with pd.option_context('mode.use_inf_as_na', True):\n"
     ]
    },
    {
     "data": {
      "image/png": "[encoded data removed]",
      "text/plain": [
       "<Figure size 640x480 with 1 Axes>"
      ]
     },
     "metadata": {},
     "output_type": "display_data"
    }
   ],
   "source": [
    "import seaborn as sns\n",
    "import matplotlib.pyplot as plt\n",
    "\n",
    "sns.histplot(df['profitLoss'], kde=True, bins=100)\n",
    "plt.title('Distribution of Profit and Loss')\n",
    "plt.xlabel('Profit/Loss')\n",
    "plt.ylabel('Frequency')\n",
    "plt.show()\n"
   ]
  },
  {
   "cell_type": "code",
   "execution_count": 167,
   "metadata": {},
   "outputs": [
    {
     "data": {
      "image/png": "[encoded data removed]",
      "text/plain": [
       "<Figure size 640x480 with 1 Axes>"
      ]
     },
     "metadata": {},
     "output_type": "display_data"
    }
   ],
   "source": [
    "# Assuming 'entryTime' and 'exitTime' are properly formatted as datetime\n",
    "df['entryTime'] = pd.to_datetime(df['entryTime'])\n",
    "df.set_index('entryTime', inplace=True)\n",
    "df['profitLoss'].cumsum().plot()\n",
    "plt.title('Cumulative Profit/Loss Over Time')\n",
    "plt.ylabel('Cumulative Profit/Loss')\n",
    "plt.xlabel('Entry Time')\n",
    "plt.show()\n"
   ]
  },
  {
   "cell_type": "code",
   "execution_count": 171,
   "metadata": {},
   "outputs": [
    {
     "data": {
      "image/png": "[encoded data removed]",
      "text/plain": [
       "<Figure size 1800x600 with 1 Axes>"
      ]
     },
     "metadata": {},
     "output_type": "display_data"
    }
   ],
   "source": [
    "win_rates = df.groupby('symbol_permtick')['isWin'].mean()\n",
    "win_rates.plot(kind='bar', figsize=(18,6))\n",
    "plt.title('Win Rate by Symbol')\n",
    "plt.ylabel('Win Rate')\n",
    "plt.xlabel('Symbol')\n",
    "plt.show()\n"
   ]
  },
  {
   "cell_type": "markdown",
   "metadata": {},
   "source": [
    "### Example for a Hypothetical Statistical Test:\n",
    "If the hypothesis is that \"Win rates are significantly different across symbols,\" you could perform a test like this:"
   ]
  },
  {
   "cell_type": "code",
   "execution_count": 173,
   "metadata": {},
   "outputs": [
    {
     "name": "stdout",
     "output_type": "stream",
     "text": [
      "Chi-Squared Test result: Chi2 = 1154.471747446111, p-value = 0.0013476400876359519\n"
     ]
    }
   ],
   "source": [
    "from scipy.stats import chi2_contingency\n",
    "\n",
    "# Creating a contingency table of win and loss counts by symbol\n",
    "contingency_table = df.pivot_table(index='symbol_permtick', columns='isWin', aggfunc='size', fill_value=0)\n",
    "chi2, p_value, dof, expected = chi2_contingency(contingency_table)\n",
    "\n",
    "print(f\"Chi-Squared Test result: Chi2 = {chi2}, p-value = {p_value}\")"
   ]
  },
  {
   "cell_type": "code",
   "execution_count": 174,
   "metadata": {},
   "outputs": [
    {
     "data": {
      "text/html": [
       "<div>\n",
       "<style scoped>\n",
       "    .dataframe tbody tr th:only-of-type {\n",
       "        vertical-align: middle;\n",
       "    }\n",
       "\n",
       "    .dataframe tbody tr th {\n",
       "        vertical-align: top;\n",
       "    }\n",
       "\n",
       "    .dataframe thead th {\n",
       "        text-align: right;\n",
       "    }\n",
       "</style>\n",
       "<table border=\"1\" class=\"dataframe\">\n",
       "  <thead>\n",
       "    <tr style=\"text-align: right;\">\n",
       "      <th>isWin</th>\n",
       "      <th>False</th>\n",
       "      <th>True</th>\n",
       "    </tr>\n",
       "    <tr>\n",
       "      <th>symbol_permtick</th>\n",
       "      <th></th>\n",
       "      <th></th>\n",
       "    </tr>\n",
       "  </thead>\n",
       "  <tbody>\n",
       "    <tr>\n",
       "      <th>A</th>\n",
       "      <td>10</td>\n",
       "      <td>13</td>\n",
       "    </tr>\n",
       "    <tr>\n",
       "      <th>AA</th>\n",
       "      <td>44</td>\n",
       "      <td>30</td>\n",
       "    </tr>\n",
       "    <tr>\n",
       "      <th>AABA</th>\n",
       "      <td>10</td>\n",
       "      <td>3</td>\n",
       "    </tr>\n",
       "    <tr>\n",
       "      <th>AAL</th>\n",
       "      <td>114</td>\n",
       "      <td>126</td>\n",
       "    </tr>\n",
       "    <tr>\n",
       "      <th>AAP</th>\n",
       "      <td>10</td>\n",
       "      <td>12</td>\n",
       "    </tr>\n",
       "    <tr>\n",
       "      <th>...</th>\n",
       "      <td>...</td>\n",
       "      <td>...</td>\n",
       "    </tr>\n",
       "    <tr>\n",
       "      <th>ZION</th>\n",
       "      <td>1</td>\n",
       "      <td>0</td>\n",
       "    </tr>\n",
       "    <tr>\n",
       "      <th>ZM</th>\n",
       "      <td>78</td>\n",
       "      <td>84</td>\n",
       "    </tr>\n",
       "    <tr>\n",
       "      <th>ZNGA</th>\n",
       "      <td>8</td>\n",
       "      <td>11</td>\n",
       "    </tr>\n",
       "    <tr>\n",
       "      <th>ZS</th>\n",
       "      <td>92</td>\n",
       "      <td>87</td>\n",
       "    </tr>\n",
       "    <tr>\n",
       "      <th>ZTS</th>\n",
       "      <td>37</td>\n",
       "      <td>36</td>\n",
       "    </tr>\n",
       "  </tbody>\n",
       "</table>\n",
       "<p>1015 rows × 2 columns</p>\n",
       "</div>"
      ],
      "text/plain": [
       "isWin            False  True \n",
       "symbol_permtick              \n",
       "A                   10     13\n",
       "AA                  44     30\n",
       "AABA                10      3\n",
       "AAL                114    126\n",
       "AAP                 10     12\n",
       "...                ...    ...\n",
       "ZION                 1      0\n",
       "ZM                  78     84\n",
       "ZNGA                 8     11\n",
       "ZS                  92     87\n",
       "ZTS                 37     36\n",
       "\n",
       "[1015 rows x 2 columns]"
      ]
     },
     "execution_count": 174,
     "metadata": {},
     "output_type": "execute_result"
    }
   ],
   "source": [
    "contingency_table"
   ]
  },
  {
   "cell_type": "markdown",
   "metadata": {},
   "source": [
    "### Chi-Squared Test for Win Rates\n",
    "This test can analyze if the win rate of a trading strategy is different from what would be expected by chance.\n",
    "\n",
    "Hypothesis: The win rate of the strategy is significantly higher than 50% (or another benchmark percentage).\n",
    "Test Method: Create a contingency table of wins and losses and apply the chi-squared test.\n"
   ]
  },
  {
   "cell_type": "code",
   "execution_count": 175,
   "metadata": {},
   "outputs": [
    {
     "data": {
      "text/plain": [
       "[21270, 19835]"
      ]
     },
     "execution_count": 175,
     "metadata": {},
     "output_type": "execute_result"
    }
   ],
   "source": [
    "import pandas as pd\n",
    "\n",
    "# Assuming your DataFrame is named df and has a column 'isWin' where True indicates a win and False a loss.\n",
    "win_count = df['isWin'].sum()\n",
    "loss_count = len(df) - win_count\n",
    "\n",
    "# Create the contingency table\n",
    "observed = [win_count, loss_count]\n",
    "observed\n"
   ]
  },
  {
   "cell_type": "code",
   "execution_count": 177,
   "metadata": {},
   "outputs": [
    {
     "data": {
      "text/plain": [
       "[20552.5, 20552.5]"
      ]
     },
     "execution_count": 177,
     "metadata": {},
     "output_type": "execute_result"
    }
   ],
   "source": [
    "total_trades = len(df)\n",
    "expected = [total_trades / 2, total_trades / 2]  # 50% wins, 50% losses\n",
    "expected\n"
   ]
  },
  {
   "cell_type": "code",
   "execution_count": 179,
   "metadata": {},
   "outputs": [
    {
     "name": "stdout",
     "output_type": "stream",
     "text": [
      "Chi-squared Statistic: 50.0967035640433, P-value: 1.4635264761262978e-12\n"
     ]
    }
   ],
   "source": [
    "from scipy.stats import chisquare\n",
    "\n",
    "chi2_stat, p_val = chisquare(observed, f_exp=expected)\n",
    "print(f\"Chi-squared Statistic: {chi2_stat}, P-value: {p_val}\")\n"
   ]
  },
  {
   "cell_type": "code",
   "execution_count": null,
   "metadata": {},
   "outputs": [],
   "source": []
  },
  {
   "cell_type": "code",
   "execution_count": null,
   "metadata": {},
   "outputs": [],
   "source": []
  },
  {
   "cell_type": "code",
   "execution_count": null,
   "metadata": {},
   "outputs": [],
   "source": []
  },
  {
   "cell_type": "code",
   "execution_count": null,
   "metadata": {},
   "outputs": [],
   "source": []
  },
  {
   "cell_type": "code",
   "execution_count": null,
   "metadata": {},
   "outputs": [],
   "source": []
  },
  {
   "cell_type": "code",
   "execution_count": null,
   "metadata": {},
   "outputs": [],
   "source": []
  },
  {
   "cell_type": "code",
   "execution_count": null,
   "metadata": {},
   "outputs": [],
   "source": []
  },
  {
   "cell_type": "code",
   "execution_count": null,
   "metadata": {},
   "outputs": [],
   "source": []
  },
  {
   "cell_type": "code",
   "execution_count": null,
   "metadata": {},
   "outputs": [],
   "source": []
  },
  {
   "cell_type": "code",
   "execution_count": null,
   "metadata": {},
   "outputs": [],
   "source": []
  },
  {
   "cell_type": "code",
   "execution_count": null,
   "metadata": {},
   "outputs": [],
   "source": []
  },
  {
   "cell_type": "code",
   "execution_count": null,
   "metadata": {},
   "outputs": [],
   "source": []
  },
  {
   "cell_type": "code",
   "execution_count": null,
   "metadata": {},
   "outputs": [],
   "source": []
  },
  {
   "cell_type": "code",
   "execution_count": null,
   "metadata": {},
   "outputs": [],
   "source": []
  },
  {
   "cell_type": "code",
   "execution_count": null,
   "metadata": {},
   "outputs": [],
   "source": []
  },
  {
   "cell_type": "code",
   "execution_count": null,
   "metadata": {},
   "outputs": [],
   "source": []
  },
  {
   "cell_type": "markdown",
   "metadata": {},
   "source": [
    "### 'totalPerformance' >> 'tradeStatistics'"
   ]
  },
  {
   "cell_type": "code",
   "execution_count": 81,
   "metadata": {},
   "outputs": [
    {
     "data": {
      "text/plain": [
       "{'startDateTime': '2019-01-03T21:00:00Z',\n",
       " 'endDateTime': '2024-08-05T14:00:00Z',\n",
       " 'totalNumberOfTrades': 41105,\n",
       " 'numberOfWinningTrades': 21270,\n",
       " 'numberOfLosingTrades': 19835,\n",
       " 'totalProfitLoss': '-43390.16',\n",
       " 'totalProfit': '604426.74',\n",
       " 'totalLoss': '-647816.90',\n",
       " 'largestProfit': '2094.2',\n",
       " 'largestLoss': '-1536.45',\n",
       " 'averageProfitLoss': '-1.0556',\n",
       " 'averageProfit': '28.4169',\n",
       " 'averageLoss': '-32.6603',\n",
       " 'averageTradeDuration': '1.04:38:42.1122636',\n",
       " 'averageWinningTradeDuration': '1.04:00:43.1596936',\n",
       " 'averageLosingTradeDuration': '1.05:19:25.9392759',\n",
       " 'medianTradeDuration': '18:00:00',\n",
       " 'medianWinningTradeDuration': '18:00:00',\n",
       " 'medianLosingTradeDuration': '18:00:00',\n",
       " 'maxConsecutiveWinningTrades': 61,\n",
       " 'maxConsecutiveLosingTrades': 67,\n",
       " 'profitLossRatio': '0.8701',\n",
       " 'winLossRatio': '1.0723',\n",
       " 'winRate': '0.5175',\n",
       " 'lossRate': '0.4825',\n",
       " 'averageMAE': '-27.0011',\n",
       " 'averageMFE': '25.2907',\n",
       " 'largestMAE': '-1536.45',\n",
       " 'largestMFE': '2597.40',\n",
       " 'maximumClosedTradeDrawdown': '-66279.37',\n",
       " 'maximumIntraTradeDrawdown': '-66281.27',\n",
       " 'profitLossStandardDeviation': '62.4978',\n",
       " 'profitLossDownsideDeviation': '60.0706',\n",
       " 'profitFactor': '0.9330',\n",
       " 'sharpeRatio': '-0.0169',\n",
       " 'sortinoRatio': '-0.0176',\n",
       " 'profitToMaxDrawdownRatio': '-0.6547',\n",
       " 'maximumEndTradeDrawdown': '-1536.45',\n",
       " 'averageEndTradeDrawdown': '-26.3463',\n",
       " 'maximumDrawdownDuration': '59.00:00:00',\n",
       " 'totalFees': '9889.9025'}"
      ]
     },
     "execution_count": 81,
     "metadata": {},
     "output_type": "execute_result"
    }
   ],
   "source": [
    "backtest_result['totalPerformance']['tradeStatistics']"
   ]
  },
  {
   "cell_type": "markdown",
   "metadata": {},
   "source": [
    "### 'totalPerformance' >> 'portfolioStatistics'"
   ]
  },
  {
   "cell_type": "code",
   "execution_count": 82,
   "metadata": {},
   "outputs": [
    {
     "data": {
      "text/plain": [
       "{'averageWinRate': '0.0004',\n",
       " 'averageLossRate': '-0.0005',\n",
       " 'profitLossRatio': '0.8672',\n",
       " 'winRate': '0.5140',\n",
       " 'lossRate': '0.4860',\n",
       " 'expectancy': '-0.0403',\n",
       " 'startEquity': '100000',\n",
       " 'endEquity': '46717.6019',\n",
       " 'compoundingAnnualReturn': '-0.1271',\n",
       " 'drawdown': '0.631',\n",
       " 'totalNetProfit': '-0.5328',\n",
       " 'sharpeRatio': '-0.5281',\n",
       " 'probabilisticSharpeRatio': '0.0000',\n",
       " 'sortinoRatio': '-0.4614',\n",
       " 'alpha': '-0.1622',\n",
       " 'beta': '0.6607',\n",
       " 'annualStandardDeviation': '0.1862',\n",
       " 'annualVariance': '0.0347',\n",
       " 'informationRatio': '-1.2183',\n",
       " 'trackingError': '0.1600',\n",
       " 'treynorRatio': '-0.1489',\n",
       " 'portfolioTurnover': '1.3213',\n",
       " 'valueAtRisk99': '-0.020',\n",
       " 'valueAtRisk95': '-0.014'}"
      ]
     },
     "execution_count": 82,
     "metadata": {},
     "output_type": "execute_result"
    }
   ],
   "source": [
    "backtest_result['totalPerformance']['portfolioStatistics']"
   ]
  },
  {
   "cell_type": "code",
   "execution_count": null,
   "metadata": {},
   "outputs": [],
   "source": [
    "# , 'charts'\n",
    "\n",
    "backtest_keys = ['rollingWindow']\n",
    "#  'rollingWindow', 'runtimeStatistics', 'statistics', 'totalPerformance', 'nodeName', 'outOfSampleMaxEndDate', 'outOfSampleDays']\n",
    "\n",
    "for k in backtest_keys:\n",
    "    print(k,backtest_result[k],'\\n')"
   ]
  },
  {
   "cell_type": "code",
   "execution_count": 71,
   "metadata": {},
   "outputs": [
    {
     "data": {
      "text/plain": [
       "{'Equity': '$46,717.60',\n",
       " 'Fees': '-$9,892.08',\n",
       " 'Holdings': '$43,612.00',\n",
       " 'Net Profit': '$-53,282.40',\n",
       " 'Probabilistic Sharpe Ratio': '0.002%',\n",
       " 'Return': '-53.28 %',\n",
       " 'Unrealized': '$-2.18',\n",
       " 'Volume': '$197,886,426.77'}"
      ]
     },
     "execution_count": 71,
     "metadata": {},
     "output_type": "execute_result"
    }
   ],
   "source": []
  },
  {
   "cell_type": "code",
   "execution_count": null,
   "metadata": {},
   "outputs": [],
   "source": []
  },
  {
   "cell_type": "code",
   "execution_count": 230,
   "metadata": {},
   "outputs": [
    {
     "data": {
      "text/plain": [
       "'QP_609IntradayReversalinUS'"
      ]
     },
     "execution_count": 230,
     "metadata": {},
     "output_type": "execute_result"
    }
   ],
   "source": [
    "\n",
    "\n",
    "def fetch_project_details(project_id):\n",
    "    headers = get_authenticated_headers()\n",
    "    # Send the projectId in the request body as you do for backtests\n",
    "    response = requests.post(url_readProject, headers=headers, data={'projectId': project_id})\n",
    "    if response.status_code == 200:\n",
    "        return response.json()['projects'][0]  # Assuming 'projects' contains the list of project details\n",
    "    else:\n",
    "        print(\"Failed to retrieve project details:\", response.status_code, response.text)\n",
    "        return None\n",
    "\n",
    "fetch_project_details(19014068)['name']"
   ]
  },
  {
   "cell_type": "code",
   "execution_count": null,
   "metadata": {},
   "outputs": [],
   "source": []
  },
  {
   "cell_type": "code",
   "execution_count": null,
   "metadata": {},
   "outputs": [],
   "source": []
  },
  {
   "cell_type": "code",
   "execution_count": null,
   "metadata": {},
   "outputs": [],
   "source": []
  },
  {
   "cell_type": "code",
   "execution_count": null,
   "metadata": {},
   "outputs": [],
   "source": [
    "backtestList['success']"
   ]
  },
  {
   "cell_type": "code",
   "execution_count": null,
   "metadata": {},
   "outputs": [],
   "source": [
    "backtestList['projects'][0].keys()"
   ]
  },
  {
   "cell_type": "code",
   "execution_count": null,
   "metadata": {},
   "outputs": [],
   "source": [
    "backtestList"
   ]
  },
  {
   "cell_type": "markdown",
   "metadata": {},
   "source": [
    "    # backtest_data['backtest'].keys(): dict_keys(['note', 'name', 'organizationId', 'projectId', 'completed', 'optimizationId', 'backtestId', 'tradeableDates', 'researchGuide', 'backtestStart', 'backtestEnd', 'created', 'snapshotId', 'status', 'error', 'stacktrace', 'progress', 'hasInitializeError', 'charts', 'parameterSet', 'rollingWindow', 'runtimeStatistics', 'statistics', 'totalPerformance', 'nodeName', 'outOfSampleMaxEndDate', 'outOfSampleDays'])"
   ]
  },
  {
   "cell_type": "code",
   "execution_count": 36,
   "metadata": {},
   "outputs": [],
   "source": []
  },
  {
   "cell_type": "code",
   "execution_count": 76,
   "metadata": {},
   "outputs": [],
   "source": [
    "\n",
    "# Initialize dictionaries to store results\n",
    "data_ytd, data_2023, data_5yr = {}, {}, {}\n",
    "\n",
    "# Loop through each project and timeframe, fetch results, and store them\n",
    "for project_id, timeframes in projects.items():\n",
    "    project_name = fetch_project_details(project_id)['name'][3:]  # Fetch the project name once per project ID\n",
    "    \n",
    "    for timeframe, backtest_id in timeframes.items():\n",
    "        \n",
    "        result = fetch_backtest_result(project_id, backtest_id, key='statistics')\n",
    "        if result:\n",
    "            if timeframe == 'YTD':\n",
    "                data_ytd[project_name] = result\n",
    "            elif timeframe == '2023':\n",
    "                data_2023[project_name] = result\n",
    "            elif timeframe == '5YR':\n",
    "                data_5yr[project_name] = result\n",
    "\n",
    "# Convert the results into DataFrames\n",
    "df_ytd = pd.DataFrame.from_dict(data_ytd, orient='index')\n",
    "df_2023 = pd.DataFrame.from_dict(data_2023, orient='index')\n",
    "df_5yr = pd.DataFrame.from_dict(data_5yr, orient='index')\n"
   ]
  },
  {
   "cell_type": "code",
   "execution_count": 39,
   "metadata": {},
   "outputs": [
    {
     "data": {
      "text/plain": [
       "'1016IntradayMomentumStrategyforSP500ETF'"
      ]
     },
     "execution_count": 39,
     "metadata": {},
     "output_type": "execute_result"
    }
   ],
   "source": [
    "project_name"
   ]
  },
  {
   "cell_type": "code",
   "execution_count": 77,
   "metadata": {},
   "outputs": [
    {
     "data": {
      "text/html": [
       "<div>\n",
       "<style scoped>\n",
       "    .dataframe tbody tr th:only-of-type {\n",
       "        vertical-align: middle;\n",
       "    }\n",
       "\n",
       "    .dataframe tbody tr th {\n",
       "        vertical-align: top;\n",
       "    }\n",
       "\n",
       "    .dataframe thead th {\n",
       "        text-align: right;\n",
       "    }\n",
       "</style>\n",
       "<table border=\"1\" class=\"dataframe\">\n",
       "  <thead>\n",
       "    <tr style=\"text-align: right;\">\n",
       "      <th></th>\n",
       "      <th>Total Orders</th>\n",
       "      <th>Average Win</th>\n",
       "      <th>Average Loss</th>\n",
       "      <th>Compounding Annual Return</th>\n",
       "      <th>Drawdown</th>\n",
       "      <th>Expectancy</th>\n",
       "      <th>Start Equity</th>\n",
       "      <th>End Equity</th>\n",
       "      <th>Net Profit</th>\n",
       "      <th>Sharpe Ratio</th>\n",
       "      <th>Sortino Ratio</th>\n",
       "      <th>Probabilistic Sharpe Ratio</th>\n",
       "      <th>Loss Rate</th>\n",
       "      <th>Win Rate</th>\n",
       "      <th>Profit-Loss Ratio</th>\n",
       "      <th>Alpha</th>\n",
       "      <th>Beta</th>\n",
       "      <th>Annual Standard Deviation</th>\n",
       "      <th>Annual Variance</th>\n",
       "      <th>Information Ratio</th>\n",
       "      <th>Tracking Error</th>\n",
       "      <th>Treynor Ratio</th>\n",
       "      <th>Total Fees</th>\n",
       "      <th>Estimated Strategy Capacity</th>\n",
       "      <th>Lowest Capacity Asset</th>\n",
       "      <th>Portfolio Turnover</th>\n",
       "    </tr>\n",
       "  </thead>\n",
       "  <tbody>\n",
       "    <tr>\n",
       "      <th>97HalfDayReversal</th>\n",
       "      <td>8698</td>\n",
       "      <td>0.03%</td>\n",
       "      <td>-0.04%</td>\n",
       "      <td>-2.306%</td>\n",
       "      <td>9.700%</td>\n",
       "      <td>-0.008</td>\n",
       "      <td>100000</td>\n",
       "      <td>98616.64</td>\n",
       "      <td>-1.383%</td>\n",
       "      <td>-0.439</td>\n",
       "      <td>-0.399</td>\n",
       "      <td>16.596%</td>\n",
       "      <td>47%</td>\n",
       "      <td>53%</td>\n",
       "      <td>0.88</td>\n",
       "      <td>-0.109</td>\n",
       "      <td>0.766</td>\n",
       "      <td>0.14</td>\n",
       "      <td>0.02</td>\n",
       "      <td>-1.045</td>\n",
       "      <td>0.118</td>\n",
       "      <td>-0.08</td>\n",
       "      <td>$1423.88</td>\n",
       "      <td>$12000000.00</td>\n",
       "      <td>BURL VKET4LM50ZFP</td>\n",
       "      <td>130.46%</td>\n",
       "    </tr>\n",
       "    <tr>\n",
       "      <th>609IntradayReversalinUS</th>\n",
       "      <td>5252</td>\n",
       "      <td>0.04%</td>\n",
       "      <td>-0.04%</td>\n",
       "      <td>-14.237%</td>\n",
       "      <td>9.500%</td>\n",
       "      <td>-0.092</td>\n",
       "      <td>100000</td>\n",
       "      <td>91237.01</td>\n",
       "      <td>-8.763%</td>\n",
       "      <td>-3.162</td>\n",
       "      <td>-3.22</td>\n",
       "      <td>0.077%</td>\n",
       "      <td>55%</td>\n",
       "      <td>45%</td>\n",
       "      <td>1.03</td>\n",
       "      <td>-0.154</td>\n",
       "      <td>-0.012</td>\n",
       "      <td>0.049</td>\n",
       "      <td>0.002</td>\n",
       "      <td>-1.91</td>\n",
       "      <td>0.114</td>\n",
       "      <td>13.391</td>\n",
       "      <td>$0.00</td>\n",
       "      <td>$460000000.00</td>\n",
       "      <td>CAVA Y9BDZUN6412D</td>\n",
       "      <td>267.91%</td>\n",
       "    </tr>\n",
       "    <tr>\n",
       "      <th>300OvernightMomentumStrategy</th>\n",
       "      <td>3918</td>\n",
       "      <td>0.15%</td>\n",
       "      <td>-0.12%</td>\n",
       "      <td>32.044%</td>\n",
       "      <td>13.200%</td>\n",
       "      <td>0.080</td>\n",
       "      <td>100000</td>\n",
       "      <td>118055.39</td>\n",
       "      <td>18.055%</td>\n",
       "      <td>0.96</td>\n",
       "      <td>0.906</td>\n",
       "      <td>54.601%</td>\n",
       "      <td>52%</td>\n",
       "      <td>48%</td>\n",
       "      <td>1.25</td>\n",
       "      <td>0.133</td>\n",
       "      <td>0.736</td>\n",
       "      <td>0.186</td>\n",
       "      <td>0.035</td>\n",
       "      <td>0.674</td>\n",
       "      <td>0.173</td>\n",
       "      <td>0.243</td>\n",
       "      <td>$3072.18</td>\n",
       "      <td>$540000000.00</td>\n",
       "      <td>ORCL R735QTJ8XC9X</td>\n",
       "      <td>226.95%</td>\n",
       "    </tr>\n",
       "    <tr>\n",
       "      <th>1016IntradayMomentumStrategyforSP500ETF</th>\n",
       "      <td>187</td>\n",
       "      <td>1.17%</td>\n",
       "      <td>-0.57%</td>\n",
       "      <td>27.177%</td>\n",
       "      <td>7.600%</td>\n",
       "      <td>0.262</td>\n",
       "      <td>100000</td>\n",
       "      <td>115412.01</td>\n",
       "      <td>15.412%</td>\n",
       "      <td>1.122</td>\n",
       "      <td>1.09</td>\n",
       "      <td>66.393%</td>\n",
       "      <td>59%</td>\n",
       "      <td>41%</td>\n",
       "      <td>2.05</td>\n",
       "      <td>0.107</td>\n",
       "      <td>0.437</td>\n",
       "      <td>0.12</td>\n",
       "      <td>0.014</td>\n",
       "      <td>0.577</td>\n",
       "      <td>0.125</td>\n",
       "      <td>0.308</td>\n",
       "      <td>$699.90</td>\n",
       "      <td>$17000000.00</td>\n",
       "      <td>SPY R735QTJ8XC9X</td>\n",
       "      <td>306.54%</td>\n",
       "    </tr>\n",
       "  </tbody>\n",
       "</table>\n",
       "</div>"
      ],
      "text/plain": [
       "                                        Total Orders Average Win Average Loss  \\\n",
       "97HalfDayReversal                               8698       0.03%       -0.04%   \n",
       "609IntradayReversalinUS                         5252       0.04%       -0.04%   \n",
       "300OvernightMomentumStrategy                    3918       0.15%       -0.12%   \n",
       "1016IntradayMomentumStrategyforSP500ETF          187       1.17%       -0.57%   \n",
       "\n",
       "                                        Compounding Annual Return Drawdown  \\\n",
       "97HalfDayReversal                                         -2.306%   9.700%   \n",
       "609IntradayReversalinUS                                  -14.237%   9.500%   \n",
       "300OvernightMomentumStrategy                              32.044%  13.200%   \n",
       "1016IntradayMomentumStrategyforSP500ETF                   27.177%   7.600%   \n",
       "\n",
       "                                        Expectancy Start Equity End Equity  \\\n",
       "97HalfDayReversal                           -0.008       100000   98616.64   \n",
       "609IntradayReversalinUS                     -0.092       100000   91237.01   \n",
       "300OvernightMomentumStrategy                 0.080       100000  118055.39   \n",
       "1016IntradayMomentumStrategyforSP500ETF      0.262       100000  115412.01   \n",
       "\n",
       "                                        Net Profit Sharpe Ratio Sortino Ratio  \\\n",
       "97HalfDayReversal                          -1.383%       -0.439        -0.399   \n",
       "609IntradayReversalinUS                    -8.763%       -3.162         -3.22   \n",
       "300OvernightMomentumStrategy               18.055%         0.96         0.906   \n",
       "1016IntradayMomentumStrategyforSP500ETF    15.412%        1.122          1.09   \n",
       "\n",
       "                                        Probabilistic Sharpe Ratio Loss Rate  \\\n",
       "97HalfDayReversal                                          16.596%       47%   \n",
       "609IntradayReversalinUS                                     0.077%       55%   \n",
       "300OvernightMomentumStrategy                               54.601%       52%   \n",
       "1016IntradayMomentumStrategyforSP500ETF                    66.393%       59%   \n",
       "\n",
       "                                        Win Rate Profit-Loss Ratio   Alpha  \\\n",
       "97HalfDayReversal                            53%              0.88  -0.109   \n",
       "609IntradayReversalinUS                      45%              1.03  -0.154   \n",
       "300OvernightMomentumStrategy                 48%              1.25   0.133   \n",
       "1016IntradayMomentumStrategyforSP500ETF      41%              2.05   0.107   \n",
       "\n",
       "                                           Beta Annual Standard Deviation  \\\n",
       "97HalfDayReversal                         0.766                      0.14   \n",
       "609IntradayReversalinUS                  -0.012                     0.049   \n",
       "300OvernightMomentumStrategy              0.736                     0.186   \n",
       "1016IntradayMomentumStrategyforSP500ETF   0.437                      0.12   \n",
       "\n",
       "                                        Annual Variance Information Ratio  \\\n",
       "97HalfDayReversal                                  0.02            -1.045   \n",
       "609IntradayReversalinUS                           0.002             -1.91   \n",
       "300OvernightMomentumStrategy                      0.035             0.674   \n",
       "1016IntradayMomentumStrategyforSP500ETF           0.014             0.577   \n",
       "\n",
       "                                        Tracking Error Treynor Ratio  \\\n",
       "97HalfDayReversal                                0.118         -0.08   \n",
       "609IntradayReversalinUS                          0.114        13.391   \n",
       "300OvernightMomentumStrategy                     0.173         0.243   \n",
       "1016IntradayMomentumStrategyforSP500ETF          0.125         0.308   \n",
       "\n",
       "                                        Total Fees  \\\n",
       "97HalfDayReversal                         $1423.88   \n",
       "609IntradayReversalinUS                      $0.00   \n",
       "300OvernightMomentumStrategy              $3072.18   \n",
       "1016IntradayMomentumStrategyforSP500ETF    $699.90   \n",
       "\n",
       "                                        Estimated Strategy Capacity  \\\n",
       "97HalfDayReversal                                      $12000000.00   \n",
       "609IntradayReversalinUS                               $460000000.00   \n",
       "300OvernightMomentumStrategy                          $540000000.00   \n",
       "1016IntradayMomentumStrategyforSP500ETF                $17000000.00   \n",
       "\n",
       "                                        Lowest Capacity Asset  \\\n",
       "97HalfDayReversal                           BURL VKET4LM50ZFP   \n",
       "609IntradayReversalinUS                     CAVA Y9BDZUN6412D   \n",
       "300OvernightMomentumStrategy                ORCL R735QTJ8XC9X   \n",
       "1016IntradayMomentumStrategyforSP500ETF      SPY R735QTJ8XC9X   \n",
       "\n",
       "                                        Portfolio Turnover  \n",
       "97HalfDayReversal                                  130.46%  \n",
       "609IntradayReversalinUS                            267.91%  \n",
       "300OvernightMomentumStrategy                       226.95%  \n",
       "1016IntradayMomentumStrategyforSP500ETF            306.54%  "
      ]
     },
     "execution_count": 77,
     "metadata": {},
     "output_type": "execute_result"
    }
   ],
   "source": [
    "df_ytd"
   ]
  },
  {
   "cell_type": "code",
   "execution_count": null,
   "metadata": {},
   "outputs": [],
   "source": [
    "df_2023"
   ]
  },
  {
   "cell_type": "code",
   "execution_count": null,
   "metadata": {},
   "outputs": [],
   "source": [
    "df_5yr"
   ]
  },
  {
   "cell_type": "code",
   "execution_count": null,
   "metadata": {},
   "outputs": [],
   "source": []
  },
  {
   "cell_type": "code",
   "execution_count": null,
   "metadata": {},
   "outputs": [],
   "source": []
  }
 ],
 "metadata": {
  "kernelspec": {
   "display_name": "Python 3.11 (pytorchbook)",
   "language": "python",
   "name": "pytorchbook"
  },
  "language_info": {
   "codemirror_mode": {
    "name": "ipython",
    "version": 3
   },
   "file_extension": ".py",
   "mimetype": "text/x-python",
   "name": "python",
   "nbconvert_exporter": "python",
   "pygments_lexer": "ipython3",
   "version": "3.11.7"
  }
 },
 "nbformat": 4,
 "nbformat_minor": 2
}
