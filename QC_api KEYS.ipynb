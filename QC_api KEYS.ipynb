{
 "cells": [
  {
   "cell_type": "code",
   "execution_count": 15,
   "metadata": {},
   "outputs": [],
   "source": [
    "import requests\n",
    "import hashlib\n",
    "import time\n",
    "import base64\n",
    "\n",
    "import pandas as pd\n",
    "\n",
    "# Your QuantConnect API credentials\n",
    "USER_ID = '92090'\n",
    "API_TOKEN = '7df20f89e389d894c09528956e8bbd1c8a76946c12d56dd8624a6705825243ef'\n",
    "\n",
    "# Project and Backtest IDs\n",
    "PROJECT_ID = 19016182  # Should be an integer for API call\n",
    "BACKTEST_ID = 'fe286f90bb0da4738404135abd17136d'\n",
    "\n",
    "# Function to create headers with appropriate authentication\n",
    "def get_authenticated_headers():\n",
    "    timestamp = str(int(time.time()))\n",
    "    data_string = f\"{API_TOKEN}:{timestamp}\"\n",
    "    hashed_token = hashlib.sha256(data_string.encode('utf-8')).hexdigest()\n",
    "    auth_string = f\"{USER_ID}:{hashed_token}\"\n",
    "    api_token = base64.b64encode(auth_string.encode('utf-8')).decode('ascii')\n",
    "    return {\n",
    "        'Authorization': f'Basic {api_token}',\n",
    "        'Timestamp': timestamp\n",
    "    }\n",
    "\n",
    "# Correct URL for fetching backtest results\n",
    "url = f\"https://www.quantconnect.com/api/v2/backtests/read\""
   ]
  },
  {
   "cell_type": "code",
   "execution_count": 3,
   "metadata": {},
   "outputs": [
    {
     "name": "stdout",
     "output_type": "stream",
     "text": [
      "Backtest results retrieved successfully:\n"
     ]
    }
   ],
   "source": [
    "# Define parameters for the request\n",
    "params = {\n",
    "    'projectId': PROJECT_ID,\n",
    "    'backtestId': BACKTEST_ID\n",
    "}\n",
    "\n",
    "# Make the POST request to the QuantConnect API\n",
    "response = requests.post(url, headers=get_authenticated_headers(), data=params)\n",
    "\n",
    "# Check the response from the API\n",
    "if response.status_code == 200:\n",
    "    # print(\"Backtest results retrieved successfully:\", response.json())\n",
    "    backtest_data = response.json()\n",
    "    print(\"Backtest results retrieved successfully:\")\n",
    "else:\n",
    "    print(\"Failed to retrieve backtest results:\", response.status_code, response.text)"
   ]
  },
  {
   "cell_type": "code",
   "execution_count": null,
   "metadata": {},
   "outputs": [],
   "source": [
    "    # 19016182: '470023a5c1f9a22a0f4829c35679f41d', \n",
    "    # 19014068: '30f0c685c6b86c3a87e41ba814ac2d20'"
   ]
  },
  {
   "cell_type": "code",
   "execution_count": 4,
   "metadata": {},
   "outputs": [
    {
     "data": {
      "text/plain": [
       "dict_keys(['backtest', 'success'])"
      ]
     },
     "execution_count": 4,
     "metadata": {},
     "output_type": "execute_result"
    }
   ],
   "source": [
    "type(backtest_data)\n",
    "backtest_data.keys()"
   ]
  },
  {
   "cell_type": "code",
   "execution_count": 5,
   "metadata": {},
   "outputs": [
    {
     "data": {
      "text/plain": [
       "dict_keys(['note', 'name', 'organizationId', 'projectId', 'completed', 'optimizationId', 'backtestId', 'tradeableDates', 'researchGuide', 'backtestStart', 'backtestEnd', 'created', 'snapshotId', 'status', 'error', 'stacktrace', 'progress', 'hasInitializeError', 'charts', 'parameterSet', 'rollingWindow', 'runtimeStatistics', 'statistics', 'totalPerformance', 'nodeName', 'outOfSampleMaxEndDate', 'outOfSampleDays'])"
      ]
     },
     "execution_count": 5,
     "metadata": {},
     "output_type": "execute_result"
    }
   ],
   "source": [
    "backtest_data['backtest'].keys()"
   ]
  },
  {
   "cell_type": "code",
   "execution_count": 6,
   "metadata": {},
   "outputs": [
    {
     "data": {
      "text/plain": [
       "('5YR', 19016182, 'fe286f90bb0da4738404135abd17136d')"
      ]
     },
     "execution_count": 6,
     "metadata": {},
     "output_type": "execute_result"
    }
   ],
   "source": [
    "backtest_data['backtest']['name'], backtest_data['backtest']['projectId'], backtest_data['backtest']['backtestId']"
   ]
  },
  {
   "cell_type": "code",
   "execution_count": 7,
   "metadata": {},
   "outputs": [
    {
     "data": {
      "text/plain": [
       "{'Total Orders': '82281',\n",
       " 'Average Win': '0.04%',\n",
       " 'Average Loss': '-0.05%',\n",
       " 'Compounding Annual Return': '-12.707%',\n",
       " 'Drawdown': '63.100%',\n",
       " 'Expectancy': '-0.040',\n",
       " 'Start Equity': '100000',\n",
       " 'End Equity': '46717.60',\n",
       " 'Net Profit': '-53.282%',\n",
       " 'Sharpe Ratio': '-0.528',\n",
       " 'Sortino Ratio': '-0.461',\n",
       " 'Probabilistic Sharpe Ratio': '0.002%',\n",
       " 'Loss Rate': '49%',\n",
       " 'Win Rate': '51%',\n",
       " 'Profit-Loss Ratio': '0.87',\n",
       " 'Alpha': '-0.162',\n",
       " 'Beta': '0.661',\n",
       " 'Annual Standard Deviation': '0.186',\n",
       " 'Annual Variance': '0.035',\n",
       " 'Information Ratio': '-1.218',\n",
       " 'Tracking Error': '0.16',\n",
       " 'Treynor Ratio': '-0.149',\n",
       " 'Total Fees': '$9892.08',\n",
       " 'Estimated Strategy Capacity': '$11000000.00',\n",
       " 'Lowest Capacity Asset': 'BURL VKET4LM50ZFP',\n",
       " 'Portfolio Turnover': '132.13%'}"
      ]
     },
     "execution_count": 7,
     "metadata": {},
     "output_type": "execute_result"
    }
   ],
   "source": [
    "backtest_data['backtest']['statistics']"
   ]
  },
  {
   "cell_type": "code",
   "execution_count": null,
   "metadata": {},
   "outputs": [],
   "source": []
  },
  {
   "cell_type": "code",
   "execution_count": null,
   "metadata": {},
   "outputs": [],
   "source": []
  },
  {
   "cell_type": "code",
   "execution_count": null,
   "metadata": {},
   "outputs": [],
   "source": [
    "api_credentials = {\n",
    "    'user_id': '92090',\n",
    "    'api_token': '7df20f89e389d894c09528956e8bbd1c8a76946c12d56dd8624a6705825243ef'\n",
    "}\n",
    "\n",
    "\n",
    "# Dictionary to hold your project data\n",
    "projects = {\n",
    "    19016182: {'YTD': '470023a5c1f9a22a0f4829c35679f41d', '2023': '082e71846f6294125674d0fba01cb279', '5YR': 'fe286f90bb0da4738404135abd17136d'}, \n",
    "    19014068: {'YTD': '30f0c685c6b86c3a87e41ba814ac2d20', '2023': 'e2c3863dd8775420a9b56d0146900536', '5YR': 'ec972b6296554776191667a53ecdf904'}\n",
    "}\n"
   ]
  },
  {
   "cell_type": "code",
   "execution_count": 16,
   "metadata": {},
   "outputs": [
    {
     "data": {
      "text/plain": [
       "{'Total Orders': '82281',\n",
       " 'Average Win': '0.04%',\n",
       " 'Average Loss': '-0.05%',\n",
       " 'Compounding Annual Return': '-12.707%',\n",
       " 'Drawdown': '63.100%',\n",
       " 'Expectancy': '-0.040',\n",
       " 'Start Equity': '100000',\n",
       " 'End Equity': '46717.60',\n",
       " 'Net Profit': '-53.282%',\n",
       " 'Sharpe Ratio': '-0.528',\n",
       " 'Sortino Ratio': '-0.461',\n",
       " 'Probabilistic Sharpe Ratio': '0.002%',\n",
       " 'Loss Rate': '49%',\n",
       " 'Win Rate': '51%',\n",
       " 'Profit-Loss Ratio': '0.87',\n",
       " 'Alpha': '-0.162',\n",
       " 'Beta': '0.661',\n",
       " 'Annual Standard Deviation': '0.186',\n",
       " 'Annual Variance': '0.035',\n",
       " 'Information Ratio': '-1.218',\n",
       " 'Tracking Error': '0.16',\n",
       " 'Treynor Ratio': '-0.149',\n",
       " 'Total Fees': '$9892.08',\n",
       " 'Estimated Strategy Capacity': '$11000000.00',\n",
       " 'Lowest Capacity Asset': 'BURL VKET4LM50ZFP',\n",
       " 'Portfolio Turnover': '132.13%'}"
      ]
     },
     "execution_count": 16,
     "metadata": {},
     "output_type": "execute_result"
    }
   ],
   "source": [
    "def fetch_backtest_result(project_id, backtest_id):\n",
    "    url = f\"https://www.quantconnect.com/api/v2/backtests/read\"\n",
    "    response = requests.post(url, headers=get_authenticated_headers(), data={'projectId': project_id, 'backtestId': backtest_id})\n",
    "    if response.status_code == 200:\n",
    "        return response.json()['backtest']['statistics']\n",
    "    else:\n",
    "        print(\"Failed to retrieve backtest results:\", response.status_code, response.text)\n",
    "        return {}\n",
    "    \n",
    "# fetch_backtest_result(project_id=19016182, backtest_id='fe286f90bb0da4738404135abd17136d')"
   ]
  },
  {
   "cell_type": "code",
   "execution_count": 18,
   "metadata": {},
   "outputs": [
    {
     "data": {
      "text/html": [
       "<div>\n",
       "<style scoped>\n",
       "    .dataframe tbody tr th:only-of-type {\n",
       "        vertical-align: middle;\n",
       "    }\n",
       "\n",
       "    .dataframe tbody tr th {\n",
       "        vertical-align: top;\n",
       "    }\n",
       "\n",
       "    .dataframe thead th {\n",
       "        text-align: right;\n",
       "    }\n",
       "</style>\n",
       "<table border=\"1\" class=\"dataframe\">\n",
       "  <thead>\n",
       "    <tr style=\"text-align: right;\">\n",
       "      <th></th>\n",
       "      <th>Total Orders</th>\n",
       "      <th>Average Win</th>\n",
       "      <th>Average Loss</th>\n",
       "      <th>Compounding Annual Return</th>\n",
       "      <th>Drawdown</th>\n",
       "      <th>Expectancy</th>\n",
       "      <th>Start Equity</th>\n",
       "      <th>End Equity</th>\n",
       "      <th>Net Profit</th>\n",
       "      <th>Sharpe Ratio</th>\n",
       "      <th>Sortino Ratio</th>\n",
       "      <th>Probabilistic Sharpe Ratio</th>\n",
       "      <th>Loss Rate</th>\n",
       "      <th>Win Rate</th>\n",
       "      <th>Profit-Loss Ratio</th>\n",
       "      <th>Alpha</th>\n",
       "      <th>Beta</th>\n",
       "      <th>Annual Standard Deviation</th>\n",
       "      <th>Annual Variance</th>\n",
       "      <th>Information Ratio</th>\n",
       "      <th>Tracking Error</th>\n",
       "      <th>Treynor Ratio</th>\n",
       "      <th>Total Fees</th>\n",
       "      <th>Estimated Strategy Capacity</th>\n",
       "      <th>Lowest Capacity Asset</th>\n",
       "      <th>Portfolio Turnover</th>\n",
       "    </tr>\n",
       "  </thead>\n",
       "  <tbody>\n",
       "    <tr>\n",
       "      <th>19016182</th>\n",
       "      <td>82281</td>\n",
       "      <td>0.04%</td>\n",
       "      <td>-0.05%</td>\n",
       "      <td>-12.707%</td>\n",
       "      <td>63.100%</td>\n",
       "      <td>-0.040</td>\n",
       "      <td>100000</td>\n",
       "      <td>46717.60</td>\n",
       "      <td>-53.282%</td>\n",
       "      <td>-0.528</td>\n",
       "      <td>-0.461</td>\n",
       "      <td>0.002%</td>\n",
       "      <td>49%</td>\n",
       "      <td>51%</td>\n",
       "      <td>0.87</td>\n",
       "      <td>-0.162</td>\n",
       "      <td>0.661</td>\n",
       "      <td>0.186</td>\n",
       "      <td>0.035</td>\n",
       "      <td>-1.218</td>\n",
       "      <td>0.16</td>\n",
       "      <td>-0.149</td>\n",
       "      <td>$9892.08</td>\n",
       "      <td>$11000000.00</td>\n",
       "      <td>BURL VKET4LM50ZFP</td>\n",
       "      <td>132.13%</td>\n",
       "    </tr>\n",
       "    <tr>\n",
       "      <th>19014068</th>\n",
       "      <td>5252</td>\n",
       "      <td>0.04%</td>\n",
       "      <td>-0.04%</td>\n",
       "      <td>-14.237%</td>\n",
       "      <td>9.500%</td>\n",
       "      <td>-0.092</td>\n",
       "      <td>100000</td>\n",
       "      <td>91237.01</td>\n",
       "      <td>-8.763%</td>\n",
       "      <td>-3.162</td>\n",
       "      <td>-3.22</td>\n",
       "      <td>0.077%</td>\n",
       "      <td>55%</td>\n",
       "      <td>45%</td>\n",
       "      <td>1.03</td>\n",
       "      <td>-0.154</td>\n",
       "      <td>-0.012</td>\n",
       "      <td>0.049</td>\n",
       "      <td>0.002</td>\n",
       "      <td>-1.91</td>\n",
       "      <td>0.114</td>\n",
       "      <td>13.391</td>\n",
       "      <td>$0.00</td>\n",
       "      <td>$460000000.00</td>\n",
       "      <td>CAVA Y9BDZUN6412D</td>\n",
       "      <td>267.91%</td>\n",
       "    </tr>\n",
       "  </tbody>\n",
       "</table>\n",
       "</div>"
      ],
      "text/plain": [
       "         Total Orders Average Win Average Loss Compounding Annual Return  \\\n",
       "19016182        82281       0.04%       -0.05%                  -12.707%   \n",
       "19014068         5252       0.04%       -0.04%                  -14.237%   \n",
       "\n",
       "         Drawdown Expectancy Start Equity End Equity Net Profit Sharpe Ratio  \\\n",
       "19016182  63.100%     -0.040       100000   46717.60   -53.282%       -0.528   \n",
       "19014068   9.500%     -0.092       100000   91237.01    -8.763%       -3.162   \n",
       "\n",
       "         Sortino Ratio Probabilistic Sharpe Ratio Loss Rate Win Rate  \\\n",
       "19016182        -0.461                     0.002%       49%      51%   \n",
       "19014068         -3.22                     0.077%       55%      45%   \n",
       "\n",
       "         Profit-Loss Ratio   Alpha    Beta Annual Standard Deviation  \\\n",
       "19016182              0.87  -0.162   0.661                     0.186   \n",
       "19014068              1.03  -0.154  -0.012                     0.049   \n",
       "\n",
       "         Annual Variance Information Ratio Tracking Error Treynor Ratio  \\\n",
       "19016182           0.035            -1.218           0.16        -0.149   \n",
       "19014068           0.002             -1.91          0.114        13.391   \n",
       "\n",
       "         Total Fees Estimated Strategy Capacity Lowest Capacity Asset  \\\n",
       "19016182   $9892.08                $11000000.00     BURL VKET4LM50ZFP   \n",
       "19014068      $0.00               $460000000.00     CAVA Y9BDZUN6412D   \n",
       "\n",
       "         Portfolio Turnover  \n",
       "19016182            132.13%  \n",
       "19014068            267.91%  "
      ]
     },
     "execution_count": 18,
     "metadata": {},
     "output_type": "execute_result"
    }
   ],
   "source": [
    "projects = {\n",
    "    19016182: 'fe286f90bb0da4738404135abd17136d',  # One backtest ID for simplicity\n",
    "    19014068: '30f0c685c6b86c3a87e41ba814ac2d20'\n",
    "}\n",
    "\n",
    "pd.set_option('display.max_columns', None)\n",
    "\n",
    "# Storing results in a DataFrame\n",
    "results = {}\n",
    "for project_id, backtest_id in projects.items():\n",
    "    results[project_id] = fetch_backtest_result(project_id, backtest_id)\n",
    "\n",
    "# Convert results to a DataFrame\n",
    "df_results = pd.DataFrame.from_dict(results, orient='index')\n",
    "df_results"
   ]
  },
  {
   "cell_type": "code",
   "execution_count": null,
   "metadata": {},
   "outputs": [],
   "source": []
  }
 ],
 "metadata": {
  "kernelspec": {
   "display_name": "Python 3.11 (pytorchbook)",
   "language": "python",
   "name": "pytorchbook"
  },
  "language_info": {
   "codemirror_mode": {
    "name": "ipython",
    "version": 3
   },
   "file_extension": ".py",
   "mimetype": "text/x-python",
   "name": "python",
   "nbconvert_exporter": "python",
   "pygments_lexer": "ipython3",
   "version": "3.11.7"
  }
 },
 "nbformat": 4,
 "nbformat_minor": 2
}
